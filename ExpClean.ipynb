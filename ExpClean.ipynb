{
 "cells": [
  {
   "cell_type": "code",
   "execution_count": 572,
   "metadata": {},
   "outputs": [],
   "source": [
    "import pandas as pd\n",
    "import numpy as np\n",
    "import matplotlib.pyplot as plt\n",
    "import seaborn as sns\n",
    "from pandas.api.types import CategoricalDtype\n",
    "sns.set()\n"
   ]
  },
  {
   "cell_type": "code",
   "execution_count": 573,
   "metadata": {},
   "outputs": [],
   "source": [
    "survey=pd.read_csv(\"../Data_raw/survey_data.csv\", sep=\",\")"
   ]
  },
  {
   "cell_type": "code",
   "execution_count": 574,
   "metadata": {},
   "outputs": [],
   "source": [
    "usage=pd.read_csv(\"../Data_raw/survey_users_app_usage.csv\", sep=\",\")"
   ]
  },
  {
   "cell_type": "code",
   "execution_count": 575,
   "metadata": {},
   "outputs": [
    {
     "data": {
      "text/html": [
       "<div>\n",
       "<style scoped>\n",
       "    .dataframe tbody tr th:only-of-type {\n",
       "        vertical-align: middle;\n",
       "    }\n",
       "\n",
       "    .dataframe tbody tr th {\n",
       "        vertical-align: top;\n",
       "    }\n",
       "\n",
       "    .dataframe thead th {\n",
       "        text-align: right;\n",
       "    }\n",
       "</style>\n",
       "<table border=\"1\" class=\"dataframe\">\n",
       "  <thead>\n",
       "    <tr style=\"text-align: right;\">\n",
       "      <th></th>\n",
       "      <th>user_id</th>\n",
       "      <th>age</th>\n",
       "      <th>annual_income</th>\n",
       "      <th>country</th>\n",
       "      <th>duolingo_platform</th>\n",
       "      <th>duolingo_subscriber</th>\n",
       "      <th>duolingo_usage</th>\n",
       "      <th>employment_status</th>\n",
       "      <th>future_contact</th>\n",
       "      <th>gender</th>\n",
       "      <th>other_resources</th>\n",
       "      <th>primary_language_commitment</th>\n",
       "      <th>primary_language_review</th>\n",
       "      <th>primary_language_motivation</th>\n",
       "      <th>primary_language_motivation_followup</th>\n",
       "      <th>primary_language_proficiency</th>\n",
       "      <th>student</th>\n",
       "      <th>survey_complete</th>\n",
       "      <th>time_spent_seconds</th>\n",
       "    </tr>\n",
       "  </thead>\n",
       "  <tbody>\n",
       "    <tr>\n",
       "      <td>6184</td>\n",
       "      <td>35cd250f72c911e9b9a1dca9049399ef</td>\n",
       "      <td>55 - 74</td>\n",
       "      <td>$151,000 or more</td>\n",
       "      <td>GB</td>\n",
       "      <td>iPhone or iPad</td>\n",
       "      <td>No, I have never paid for Duolingo Plus</td>\n",
       "      <td>I don't use Duolingo</td>\n",
       "      <td>Employed full-time</td>\n",
       "      <td>No</td>\n",
       "      <td>Female</td>\n",
       "      <td>Stories/novels/children's books,Movies/TV Show...</td>\n",
       "      <td>I'm extremely committed to learning this langu...</td>\n",
       "      <td>I am using Duolingo to review a language I've ...</td>\n",
       "      <td>I want to advance professionally or economically</td>\n",
       "      <td>Learning this language will help me get a bett...</td>\n",
       "      <td>Beginner</td>\n",
       "      <td>Full-time student</td>\n",
       "      <td>1</td>\n",
       "      <td>-114</td>\n",
       "    </tr>\n",
       "    <tr>\n",
       "      <td>6185</td>\n",
       "      <td>35cf7a1772c911e9b029dca9049399ef</td>\n",
       "      <td>55 - 74</td>\n",
       "      <td>$26,000 - $75,000</td>\n",
       "      <td>FR</td>\n",
       "      <td>Android phone or tablet</td>\n",
       "      <td>Yes, I currently pay for Duolingo Plus</td>\n",
       "      <td>Daily</td>\n",
       "      <td>Retired</td>\n",
       "      <td>No</td>\n",
       "      <td>Male</td>\n",
       "      <td>NaN</td>\n",
       "      <td>I'm very committed to learning this language.</td>\n",
       "      <td>I am using Duolingo to review a language I've ...</td>\n",
       "      <td>I want to keep my brain healthy</td>\n",
       "      <td>NaN</td>\n",
       "      <td>Beginner</td>\n",
       "      <td>Not currently a student</td>\n",
       "      <td>1</td>\n",
       "      <td>-284</td>\n",
       "    </tr>\n",
       "    <tr>\n",
       "      <td>6186</td>\n",
       "      <td>35ca480c72c911e993b8dca9049399ef</td>\n",
       "      <td>55 - 74</td>\n",
       "      <td>NaN</td>\n",
       "      <td>JP</td>\n",
       "      <td>iPhone or iPad</td>\n",
       "      <td>Yes, I currently pay for Duolingo Plus</td>\n",
       "      <td>Daily</td>\n",
       "      <td>Retired</td>\n",
       "      <td>Yes</td>\n",
       "      <td>Female</td>\n",
       "      <td>Other apps</td>\n",
       "      <td>I'm moderately committed to learning this lang...</td>\n",
       "      <td>I am using Duolingo to learn this language for...</td>\n",
       "      <td>I want to improve relationships with some of t...</td>\n",
       "      <td>NaN</td>\n",
       "      <td>Beginner</td>\n",
       "      <td>Not currently a student</td>\n",
       "      <td>1</td>\n",
       "      <td>-285</td>\n",
       "    </tr>\n",
       "  </tbody>\n",
       "</table>\n",
       "</div>"
      ],
      "text/plain": [
       "                               user_id      age      annual_income country  \\\n",
       "6184  35cd250f72c911e9b9a1dca9049399ef  55 - 74   $151,000 or more      GB   \n",
       "6185  35cf7a1772c911e9b029dca9049399ef  55 - 74  $26,000 - $75,000      FR   \n",
       "6186  35ca480c72c911e993b8dca9049399ef  55 - 74                NaN      JP   \n",
       "\n",
       "            duolingo_platform                      duolingo_subscriber  \\\n",
       "6184           iPhone or iPad  No, I have never paid for Duolingo Plus   \n",
       "6185  Android phone or tablet   Yes, I currently pay for Duolingo Plus   \n",
       "6186           iPhone or iPad   Yes, I currently pay for Duolingo Plus   \n",
       "\n",
       "            duolingo_usage   employment_status future_contact  gender  \\\n",
       "6184  I don't use Duolingo  Employed full-time             No  Female   \n",
       "6185                 Daily             Retired             No    Male   \n",
       "6186                 Daily             Retired            Yes  Female   \n",
       "\n",
       "                                        other_resources  \\\n",
       "6184  Stories/novels/children's books,Movies/TV Show...   \n",
       "6185                                                NaN   \n",
       "6186                                         Other apps   \n",
       "\n",
       "                            primary_language_commitment  \\\n",
       "6184  I'm extremely committed to learning this langu...   \n",
       "6185      I'm very committed to learning this language.   \n",
       "6186  I'm moderately committed to learning this lang...   \n",
       "\n",
       "                                primary_language_review  \\\n",
       "6184  I am using Duolingo to review a language I've ...   \n",
       "6185  I am using Duolingo to review a language I've ...   \n",
       "6186  I am using Duolingo to learn this language for...   \n",
       "\n",
       "                            primary_language_motivation  \\\n",
       "6184   I want to advance professionally or economically   \n",
       "6185                    I want to keep my brain healthy   \n",
       "6186  I want to improve relationships with some of t...   \n",
       "\n",
       "                   primary_language_motivation_followup  \\\n",
       "6184  Learning this language will help me get a bett...   \n",
       "6185                                                NaN   \n",
       "6186                                                NaN   \n",
       "\n",
       "     primary_language_proficiency                  student  survey_complete  \\\n",
       "6184                     Beginner        Full-time student                1   \n",
       "6185                     Beginner  Not currently a student                1   \n",
       "6186                     Beginner  Not currently a student                1   \n",
       "\n",
       "      time_spent_seconds  \n",
       "6184                -114  \n",
       "6185                -284  \n",
       "6186                -285  "
      ]
     },
     "execution_count": 575,
     "metadata": {},
     "output_type": "execute_result"
    }
   ],
   "source": [
    "# There are 6187 observations\n",
    "survey.tail(3)"
   ]
  },
  {
   "cell_type": "code",
   "execution_count": 576,
   "metadata": {},
   "outputs": [
    {
     "data": {
      "text/html": [
       "<div>\n",
       "<style scoped>\n",
       "    .dataframe tbody tr th:only-of-type {\n",
       "        vertical-align: middle;\n",
       "    }\n",
       "\n",
       "    .dataframe tbody tr th {\n",
       "        vertical-align: top;\n",
       "    }\n",
       "\n",
       "    .dataframe thead th {\n",
       "        text-align: right;\n",
       "    }\n",
       "</style>\n",
       "<table border=\"1\" class=\"dataframe\">\n",
       "  <thead>\n",
       "    <tr style=\"text-align: right;\">\n",
       "      <th></th>\n",
       "      <th>user_id</th>\n",
       "      <th>duolingo_start_date</th>\n",
       "      <th>daily_goal</th>\n",
       "      <th>highest_course_progress</th>\n",
       "      <th>took_placement_test</th>\n",
       "      <th>purchased_subscription</th>\n",
       "      <th>highest_crown_count</th>\n",
       "      <th>n_active_days</th>\n",
       "      <th>n_lessons_started</th>\n",
       "      <th>n_lessons_completed</th>\n",
       "      <th>longest_streak</th>\n",
       "      <th>n_days_on_platform</th>\n",
       "    </tr>\n",
       "  </thead>\n",
       "  <tbody>\n",
       "    <tr>\n",
       "      <td>6146</td>\n",
       "      <td>35cbcbb572c911e9807ddca9049399ef</td>\n",
       "      <td>9/24/15 1:15</td>\n",
       "      <td>NaN</td>\n",
       "      <td>-5.0</td>\n",
       "      <td>False</td>\n",
       "      <td>False</td>\n",
       "      <td>NaN</td>\n",
       "      <td>27</td>\n",
       "      <td>29.0</td>\n",
       "      <td>58.0</td>\n",
       "      <td>2</td>\n",
       "      <td>1137</td>\n",
       "    </tr>\n",
       "    <tr>\n",
       "      <td>6147</td>\n",
       "      <td>35cffde372c911e9b4afdca9049399ef</td>\n",
       "      <td>6/17/18 6:55</td>\n",
       "      <td>20.0</td>\n",
       "      <td>-3.0</td>\n",
       "      <td>False</td>\n",
       "      <td>False</td>\n",
       "      <td>19.0</td>\n",
       "      <td>94</td>\n",
       "      <td>192.0</td>\n",
       "      <td>185.0</td>\n",
       "      <td>44</td>\n",
       "      <td>140</td>\n",
       "    </tr>\n",
       "    <tr>\n",
       "      <td>6148</td>\n",
       "      <td>35cec29c72c911e9b6d3dca9049399ef</td>\n",
       "      <td>10/30/17 7:17</td>\n",
       "      <td>NaN</td>\n",
       "      <td>-6.0</td>\n",
       "      <td>True</td>\n",
       "      <td>False</td>\n",
       "      <td>33.0</td>\n",
       "      <td>12</td>\n",
       "      <td>39.0</td>\n",
       "      <td>32.0</td>\n",
       "      <td>4</td>\n",
       "      <td>370</td>\n",
       "    </tr>\n",
       "  </tbody>\n",
       "</table>\n",
       "</div>"
      ],
      "text/plain": [
       "                               user_id duolingo_start_date  daily_goal  \\\n",
       "6146  35cbcbb572c911e9807ddca9049399ef        9/24/15 1:15         NaN   \n",
       "6147  35cffde372c911e9b4afdca9049399ef        6/17/18 6:55        20.0   \n",
       "6148  35cec29c72c911e9b6d3dca9049399ef       10/30/17 7:17         NaN   \n",
       "\n",
       "      highest_course_progress took_placement_test  purchased_subscription  \\\n",
       "6146                     -5.0               False                   False   \n",
       "6147                     -3.0               False                   False   \n",
       "6148                     -6.0                True                   False   \n",
       "\n",
       "      highest_crown_count  n_active_days  n_lessons_started  \\\n",
       "6146                  NaN             27               29.0   \n",
       "6147                 19.0             94              192.0   \n",
       "6148                 33.0             12               39.0   \n",
       "\n",
       "      n_lessons_completed  longest_streak  n_days_on_platform  \n",
       "6146                 58.0               2                1137  \n",
       "6147                185.0              44                 140  \n",
       "6148                 32.0               4                 370  "
      ]
     },
     "execution_count": 576,
     "metadata": {},
     "output_type": "execute_result"
    }
   ],
   "source": [
    "# There are 6149 observations\n",
    "usage.tail(3)"
   ]
  },
  {
   "cell_type": "code",
   "execution_count": 577,
   "metadata": {},
   "outputs": [
    {
     "data": {
      "text/html": [
       "<div>\n",
       "<style scoped>\n",
       "    .dataframe tbody tr th:only-of-type {\n",
       "        vertical-align: middle;\n",
       "    }\n",
       "\n",
       "    .dataframe tbody tr th {\n",
       "        vertical-align: top;\n",
       "    }\n",
       "\n",
       "    .dataframe thead th {\n",
       "        text-align: right;\n",
       "    }\n",
       "</style>\n",
       "<table border=\"1\" class=\"dataframe\">\n",
       "  <thead>\n",
       "    <tr style=\"text-align: right;\">\n",
       "      <th></th>\n",
       "      <th>user_id</th>\n",
       "      <th>duolingo_start_date</th>\n",
       "      <th>daily_goal</th>\n",
       "      <th>highest_course_progress</th>\n",
       "      <th>took_placement_test</th>\n",
       "      <th>purchased_subscription</th>\n",
       "      <th>highest_crown_count</th>\n",
       "      <th>n_active_days</th>\n",
       "      <th>n_lessons_started</th>\n",
       "      <th>n_lessons_completed</th>\n",
       "      <th>longest_streak</th>\n",
       "      <th>n_days_on_platform</th>\n",
       "    </tr>\n",
       "  </thead>\n",
       "  <tbody>\n",
       "    <tr>\n",
       "      <td>6146</td>\n",
       "      <td>35cbcbb572c911e9807ddca9049399ef</td>\n",
       "      <td>2015-09-24 01:15:00</td>\n",
       "      <td>NaN</td>\n",
       "      <td>-5.0</td>\n",
       "      <td>False</td>\n",
       "      <td>False</td>\n",
       "      <td>NaN</td>\n",
       "      <td>27</td>\n",
       "      <td>29.0</td>\n",
       "      <td>58.0</td>\n",
       "      <td>2</td>\n",
       "      <td>1137</td>\n",
       "    </tr>\n",
       "    <tr>\n",
       "      <td>6147</td>\n",
       "      <td>35cffde372c911e9b4afdca9049399ef</td>\n",
       "      <td>2018-06-17 06:55:00</td>\n",
       "      <td>20.0</td>\n",
       "      <td>-3.0</td>\n",
       "      <td>False</td>\n",
       "      <td>False</td>\n",
       "      <td>19.0</td>\n",
       "      <td>94</td>\n",
       "      <td>192.0</td>\n",
       "      <td>185.0</td>\n",
       "      <td>44</td>\n",
       "      <td>140</td>\n",
       "    </tr>\n",
       "    <tr>\n",
       "      <td>6148</td>\n",
       "      <td>35cec29c72c911e9b6d3dca9049399ef</td>\n",
       "      <td>2017-10-30 07:17:00</td>\n",
       "      <td>NaN</td>\n",
       "      <td>-6.0</td>\n",
       "      <td>True</td>\n",
       "      <td>False</td>\n",
       "      <td>33.0</td>\n",
       "      <td>12</td>\n",
       "      <td>39.0</td>\n",
       "      <td>32.0</td>\n",
       "      <td>4</td>\n",
       "      <td>370</td>\n",
       "    </tr>\n",
       "  </tbody>\n",
       "</table>\n",
       "</div>"
      ],
      "text/plain": [
       "                               user_id duolingo_start_date  daily_goal  \\\n",
       "6146  35cbcbb572c911e9807ddca9049399ef 2015-09-24 01:15:00         NaN   \n",
       "6147  35cffde372c911e9b4afdca9049399ef 2018-06-17 06:55:00        20.0   \n",
       "6148  35cec29c72c911e9b6d3dca9049399ef 2017-10-30 07:17:00         NaN   \n",
       "\n",
       "      highest_course_progress took_placement_test  purchased_subscription  \\\n",
       "6146                     -5.0               False                   False   \n",
       "6147                     -3.0               False                   False   \n",
       "6148                     -6.0                True                   False   \n",
       "\n",
       "      highest_crown_count  n_active_days  n_lessons_started  \\\n",
       "6146                  NaN             27               29.0   \n",
       "6147                 19.0             94              192.0   \n",
       "6148                 33.0             12               39.0   \n",
       "\n",
       "      n_lessons_completed  longest_streak  n_days_on_platform  \n",
       "6146                 58.0               2                1137  \n",
       "6147                185.0              44                 140  \n",
       "6148                 32.0               4                 370  "
      ]
     },
     "execution_count": 577,
     "metadata": {},
     "output_type": "execute_result"
    }
   ],
   "source": [
    "# read the file again with parse_dates\n",
    "usage=pd.read_csv(\"../Data_raw/survey_users_app_usage.csv\", parse_dates=[\"duolingo_start_date\"])\n",
    "usage.tail(3)"
   ]
  },
  {
   "cell_type": "code",
   "execution_count": 578,
   "metadata": {},
   "outputs": [
    {
     "data": {
      "text/html": [
       "<div>\n",
       "<style scoped>\n",
       "    .dataframe tbody tr th:only-of-type {\n",
       "        vertical-align: middle;\n",
       "    }\n",
       "\n",
       "    .dataframe tbody tr th {\n",
       "        vertical-align: top;\n",
       "    }\n",
       "\n",
       "    .dataframe thead th {\n",
       "        text-align: right;\n",
       "    }\n",
       "</style>\n",
       "<table border=\"1\" class=\"dataframe\">\n",
       "  <thead>\n",
       "    <tr style=\"text-align: right;\">\n",
       "      <th></th>\n",
       "      <th>survey_complete</th>\n",
       "      <th>time_spent_seconds</th>\n",
       "    </tr>\n",
       "  </thead>\n",
       "  <tbody>\n",
       "    <tr>\n",
       "      <td>count</td>\n",
       "      <td>6187.000000</td>\n",
       "      <td>6187.000000</td>\n",
       "    </tr>\n",
       "    <tr>\n",
       "      <td>mean</td>\n",
       "      <td>0.925974</td>\n",
       "      <td>3325.057055</td>\n",
       "    </tr>\n",
       "    <tr>\n",
       "      <td>std</td>\n",
       "      <td>0.261835</td>\n",
       "      <td>26268.864929</td>\n",
       "    </tr>\n",
       "    <tr>\n",
       "      <td>min</td>\n",
       "      <td>0.000000</td>\n",
       "      <td>-297.000000</td>\n",
       "    </tr>\n",
       "    <tr>\n",
       "      <td>25%</td>\n",
       "      <td>1.000000</td>\n",
       "      <td>234.000000</td>\n",
       "    </tr>\n",
       "    <tr>\n",
       "      <td>50%</td>\n",
       "      <td>1.000000</td>\n",
       "      <td>325.000000</td>\n",
       "    </tr>\n",
       "    <tr>\n",
       "      <td>75%</td>\n",
       "      <td>1.000000</td>\n",
       "      <td>470.000000</td>\n",
       "    </tr>\n",
       "    <tr>\n",
       "      <td>max</td>\n",
       "      <td>1.000000</td>\n",
       "      <td>584939.000000</td>\n",
       "    </tr>\n",
       "  </tbody>\n",
       "</table>\n",
       "</div>"
      ],
      "text/plain": [
       "       survey_complete  time_spent_seconds\n",
       "count      6187.000000         6187.000000\n",
       "mean          0.925974         3325.057055\n",
       "std           0.261835        26268.864929\n",
       "min           0.000000         -297.000000\n",
       "25%           1.000000          234.000000\n",
       "50%           1.000000          325.000000\n",
       "75%           1.000000          470.000000\n",
       "max           1.000000       584939.000000"
      ]
     },
     "execution_count": 578,
     "metadata": {},
     "output_type": "execute_result"
    }
   ],
   "source": [
    "survey.describe()"
   ]
  },
  {
   "cell_type": "code",
   "execution_count": 579,
   "metadata": {},
   "outputs": [
    {
     "data": {
      "text/html": [
       "<div>\n",
       "<style scoped>\n",
       "    .dataframe tbody tr th:only-of-type {\n",
       "        vertical-align: middle;\n",
       "    }\n",
       "\n",
       "    .dataframe tbody tr th {\n",
       "        vertical-align: top;\n",
       "    }\n",
       "\n",
       "    .dataframe thead th {\n",
       "        text-align: right;\n",
       "    }\n",
       "</style>\n",
       "<table border=\"1\" class=\"dataframe\">\n",
       "  <thead>\n",
       "    <tr style=\"text-align: right;\">\n",
       "      <th></th>\n",
       "      <th>daily_goal</th>\n",
       "      <th>highest_course_progress</th>\n",
       "      <th>highest_crown_count</th>\n",
       "      <th>n_active_days</th>\n",
       "      <th>n_lessons_started</th>\n",
       "      <th>n_lessons_completed</th>\n",
       "      <th>longest_streak</th>\n",
       "      <th>n_days_on_platform</th>\n",
       "    </tr>\n",
       "  </thead>\n",
       "  <tbody>\n",
       "    <tr>\n",
       "      <td>count</td>\n",
       "      <td>2687.000000</td>\n",
       "      <td>6135.000000</td>\n",
       "      <td>5857.000000</td>\n",
       "      <td>6149.000000</td>\n",
       "      <td>5993.000000</td>\n",
       "      <td>5993.000000</td>\n",
       "      <td>6149.000000</td>\n",
       "      <td>6149.000000</td>\n",
       "    </tr>\n",
       "    <tr>\n",
       "      <td>mean</td>\n",
       "      <td>25.853740</td>\n",
       "      <td>27.314914</td>\n",
       "      <td>107.126515</td>\n",
       "      <td>49.150106</td>\n",
       "      <td>249.929918</td>\n",
       "      <td>233.634741</td>\n",
       "      <td>154.855586</td>\n",
       "      <td>615.571963</td>\n",
       "    </tr>\n",
       "    <tr>\n",
       "      <td>std</td>\n",
       "      <td>13.707093</td>\n",
       "      <td>20.179992</td>\n",
       "      <td>97.168490</td>\n",
       "      <td>39.212910</td>\n",
       "      <td>300.918632</td>\n",
       "      <td>284.536445</td>\n",
       "      <td>617.272874</td>\n",
       "      <td>594.823322</td>\n",
       "    </tr>\n",
       "    <tr>\n",
       "      <td>min</td>\n",
       "      <td>1.000000</td>\n",
       "      <td>-10.000000</td>\n",
       "      <td>0.000000</td>\n",
       "      <td>1.000000</td>\n",
       "      <td>1.000000</td>\n",
       "      <td>0.000000</td>\n",
       "      <td>0.000000</td>\n",
       "      <td>2.000000</td>\n",
       "    </tr>\n",
       "    <tr>\n",
       "      <td>25%</td>\n",
       "      <td>20.000000</td>\n",
       "      <td>10.000000</td>\n",
       "      <td>30.000000</td>\n",
       "      <td>12.000000</td>\n",
       "      <td>55.000000</td>\n",
       "      <td>49.000000</td>\n",
       "      <td>3.000000</td>\n",
       "      <td>99.000000</td>\n",
       "    </tr>\n",
       "    <tr>\n",
       "      <td>50%</td>\n",
       "      <td>20.000000</td>\n",
       "      <td>26.000000</td>\n",
       "      <td>81.000000</td>\n",
       "      <td>44.000000</td>\n",
       "      <td>166.000000</td>\n",
       "      <td>153.000000</td>\n",
       "      <td>17.000000</td>\n",
       "      <td>417.000000</td>\n",
       "    </tr>\n",
       "    <tr>\n",
       "      <td>75%</td>\n",
       "      <td>30.000000</td>\n",
       "      <td>38.000000</td>\n",
       "      <td>160.000000</td>\n",
       "      <td>85.000000</td>\n",
       "      <td>332.000000</td>\n",
       "      <td>311.000000</td>\n",
       "      <td>88.000000</td>\n",
       "      <td>1002.000000</td>\n",
       "    </tr>\n",
       "    <tr>\n",
       "      <td>max</td>\n",
       "      <td>50.000000</td>\n",
       "      <td>83.000000</td>\n",
       "      <td>617.000000</td>\n",
       "      <td>289.000000</td>\n",
       "      <td>4786.000000</td>\n",
       "      <td>4686.000000</td>\n",
       "      <td>6000.000000</td>\n",
       "      <td>2402.000000</td>\n",
       "    </tr>\n",
       "  </tbody>\n",
       "</table>\n",
       "</div>"
      ],
      "text/plain": [
       "        daily_goal  highest_course_progress  highest_crown_count  \\\n",
       "count  2687.000000              6135.000000          5857.000000   \n",
       "mean     25.853740                27.314914           107.126515   \n",
       "std      13.707093                20.179992            97.168490   \n",
       "min       1.000000               -10.000000             0.000000   \n",
       "25%      20.000000                10.000000            30.000000   \n",
       "50%      20.000000                26.000000            81.000000   \n",
       "75%      30.000000                38.000000           160.000000   \n",
       "max      50.000000                83.000000           617.000000   \n",
       "\n",
       "       n_active_days  n_lessons_started  n_lessons_completed  longest_streak  \\\n",
       "count    6149.000000        5993.000000          5993.000000     6149.000000   \n",
       "mean       49.150106         249.929918           233.634741      154.855586   \n",
       "std        39.212910         300.918632           284.536445      617.272874   \n",
       "min         1.000000           1.000000             0.000000        0.000000   \n",
       "25%        12.000000          55.000000            49.000000        3.000000   \n",
       "50%        44.000000         166.000000           153.000000       17.000000   \n",
       "75%        85.000000         332.000000           311.000000       88.000000   \n",
       "max       289.000000        4786.000000          4686.000000     6000.000000   \n",
       "\n",
       "       n_days_on_platform  \n",
       "count         6149.000000  \n",
       "mean           615.571963  \n",
       "std            594.823322  \n",
       "min              2.000000  \n",
       "25%             99.000000  \n",
       "50%            417.000000  \n",
       "75%           1002.000000  \n",
       "max           2402.000000  "
      ]
     },
     "execution_count": 579,
     "metadata": {},
     "output_type": "execute_result"
    }
   ],
   "source": [
    "usage.describe()"
   ]
  },
  {
   "cell_type": "markdown",
   "metadata": {},
   "source": [
    "# 1. Investigate survey data"
   ]
  },
  {
   "cell_type": "code",
   "execution_count": 580,
   "metadata": {},
   "outputs": [
    {
     "data": {
      "text/plain": [
       "user_id                                 6150\n",
       "age                                        5\n",
       "annual_income                              5\n",
       "country                                   10\n",
       "duolingo_platform                          3\n",
       "duolingo_subscriber                        4\n",
       "duolingo_usage                             5\n",
       "employment_status                          4\n",
       "future_contact                             2\n",
       "gender                                     4\n",
       "other_resources                          252\n",
       "primary_language_commitment                5\n",
       "primary_language_review                    2\n",
       "primary_language_motivation               13\n",
       "primary_language_motivation_followup     146\n",
       "primary_language_proficiency               3\n",
       "student                                    3\n",
       "survey_complete                            2\n",
       "time_spent_seconds                      1305\n",
       "dtype: int64"
      ]
     },
     "execution_count": 580,
     "metadata": {},
     "output_type": "execute_result"
    }
   ],
   "source": [
    "# There are only 6150 unique user Id's, there are 6187 survey obsevation \n",
    "survey.nunique()"
   ]
  },
  {
   "cell_type": "code",
   "execution_count": 581,
   "metadata": {},
   "outputs": [
    {
     "data": {
      "text/plain": [
       "user_id                                    0\n",
       "age                                      349\n",
       "annual_income                           1005\n",
       "country                                    0\n",
       "duolingo_platform                        276\n",
       "duolingo_subscriber                      286\n",
       "duolingo_usage                           276\n",
       "employment_status                        457\n",
       "future_contact                           741\n",
       "gender                                   349\n",
       "other_resources                         1713\n",
       "primary_language_commitment              165\n",
       "primary_language_review                  173\n",
       "primary_language_motivation              239\n",
       "primary_language_motivation_followup    2472\n",
       "primary_language_proficiency             160\n",
       "student                                  664\n",
       "survey_complete                            0\n",
       "time_spent_seconds                         0\n",
       "dtype: int64"
      ]
     },
     "execution_count": 581,
     "metadata": {},
     "output_type": "execute_result"
    }
   ],
   "source": [
    "survey.isnull().sum(axis=0)"
   ]
  },
  {
   "cell_type": "code",
   "execution_count": 582,
   "metadata": {},
   "outputs": [
    {
     "data": {
      "text/plain": [
       "37"
      ]
     },
     "execution_count": 582,
     "metadata": {},
     "output_type": "execute_result"
    }
   ],
   "source": [
    "# Identify which users took surveys more than once. 37 users took the survey twice\n",
    "user_list=survey.user_id.value_counts()\n",
    "repeated_users=user_list[user_list >1]\n",
    "len(repeated_users)"
   ]
  },
  {
   "cell_type": "code",
   "execution_count": 583,
   "metadata": {},
   "outputs": [
    {
     "data": {
      "text/html": [
       "<div>\n",
       "<style scoped>\n",
       "    .dataframe tbody tr th:only-of-type {\n",
       "        vertical-align: middle;\n",
       "    }\n",
       "\n",
       "    .dataframe tbody tr th {\n",
       "        vertical-align: top;\n",
       "    }\n",
       "\n",
       "    .dataframe thead th {\n",
       "        text-align: right;\n",
       "    }\n",
       "</style>\n",
       "<table border=\"1\" class=\"dataframe\">\n",
       "  <thead>\n",
       "    <tr style=\"text-align: right;\">\n",
       "      <th></th>\n",
       "      <th>user_id</th>\n",
       "      <th>age</th>\n",
       "      <th>annual_income</th>\n",
       "      <th>country</th>\n",
       "      <th>duolingo_platform</th>\n",
       "      <th>duolingo_subscriber</th>\n",
       "      <th>duolingo_usage</th>\n",
       "      <th>employment_status</th>\n",
       "      <th>future_contact</th>\n",
       "      <th>gender</th>\n",
       "      <th>other_resources</th>\n",
       "      <th>primary_language_commitment</th>\n",
       "      <th>primary_language_review</th>\n",
       "      <th>primary_language_motivation</th>\n",
       "      <th>primary_language_motivation_followup</th>\n",
       "      <th>primary_language_proficiency</th>\n",
       "      <th>student</th>\n",
       "      <th>survey_complete</th>\n",
       "      <th>time_spent_seconds</th>\n",
       "    </tr>\n",
       "  </thead>\n",
       "  <tbody>\n",
       "    <tr>\n",
       "      <td>30</td>\n",
       "      <td>35ca11b872c911e984abdca9049399ef</td>\n",
       "      <td>18-34</td>\n",
       "      <td>$11,000 - $25,000</td>\n",
       "      <td>JP</td>\n",
       "      <td>iPhone or iPad</td>\n",
       "      <td>No, I have never paid for Duolingo Plus</td>\n",
       "      <td>Daily</td>\n",
       "      <td>Employed part-time</td>\n",
       "      <td>Yes</td>\n",
       "      <td>Female</td>\n",
       "      <td>Speak with others (language events, conversati...</td>\n",
       "      <td>I'm extremely committed to learning this langu...</td>\n",
       "      <td>I am using Duolingo to learn this language for...</td>\n",
       "      <td>I want to challenge myself</td>\n",
       "      <td>NaN</td>\n",
       "      <td>Beginner</td>\n",
       "      <td>Full-time student</td>\n",
       "      <td>1</td>\n",
       "      <td>169</td>\n",
       "    </tr>\n",
       "    <tr>\n",
       "      <td>447</td>\n",
       "      <td>35ca11b872c911e984abdca9049399ef</td>\n",
       "      <td>18-34</td>\n",
       "      <td>$0 - $10,000</td>\n",
       "      <td>JP</td>\n",
       "      <td>iPhone or iPad</td>\n",
       "      <td>No, I have never paid for Duolingo Plus</td>\n",
       "      <td>Daily</td>\n",
       "      <td>Employed part-time</td>\n",
       "      <td>Yes</td>\n",
       "      <td>Female</td>\n",
       "      <td>Online language class</td>\n",
       "      <td>I'm extremely committed to learning this langu...</td>\n",
       "      <td>I am using Duolingo to learn this language for...</td>\n",
       "      <td>I want to challenge myself</td>\n",
       "      <td>NaN</td>\n",
       "      <td>Beginner</td>\n",
       "      <td>Part-time student</td>\n",
       "      <td>1</td>\n",
       "      <td>346</td>\n",
       "    </tr>\n",
       "    <tr>\n",
       "      <td>6064</td>\n",
       "      <td>35ca57a372c911e98c79dca9049399ef</td>\n",
       "      <td>35 - 54</td>\n",
       "      <td>NaN</td>\n",
       "      <td>DE</td>\n",
       "      <td>Android phone or tablet</td>\n",
       "      <td>No, I have never paid for Duolingo Plus</td>\n",
       "      <td>Daily</td>\n",
       "      <td>Employed full-time</td>\n",
       "      <td>Yes</td>\n",
       "      <td>Male</td>\n",
       "      <td>Other apps</td>\n",
       "      <td>I'm very committed to learning this language.</td>\n",
       "      <td>I am using Duolingo to learn this language for...</td>\n",
       "      <td>I need to be able to speak the local language ...</td>\n",
       "      <td>I am studying abroad</td>\n",
       "      <td>Beginner</td>\n",
       "      <td>Not currently a student</td>\n",
       "      <td>1</td>\n",
       "      <td>243</td>\n",
       "    </tr>\n",
       "    <tr>\n",
       "      <td>6030</td>\n",
       "      <td>35ca57a372c911e98c79dca9049399ef</td>\n",
       "      <td>18-34</td>\n",
       "      <td>$11,000 - $25,000</td>\n",
       "      <td>JP</td>\n",
       "      <td>iPhone or iPad</td>\n",
       "      <td>No, I have never paid for Duolingo Plus</td>\n",
       "      <td>Daily</td>\n",
       "      <td>Unemployed</td>\n",
       "      <td>Yes</td>\n",
       "      <td>Male</td>\n",
       "      <td>Textbooks,Stories/novels/children's books,Movi...</td>\n",
       "      <td>I'm extremely committed to learning this langu...</td>\n",
       "      <td>I am using Duolingo to learn this language for...</td>\n",
       "      <td>I want my family to learn a language together</td>\n",
       "      <td>NaN</td>\n",
       "      <td>Intermediate</td>\n",
       "      <td>Not currently a student</td>\n",
       "      <td>1</td>\n",
       "      <td>311</td>\n",
       "    </tr>\n",
       "    <tr>\n",
       "      <td>6035</td>\n",
       "      <td>35ca6ffa72c911e993bcdca9049399ef</td>\n",
       "      <td>18-34</td>\n",
       "      <td>$26,000 - $75,000</td>\n",
       "      <td>JP</td>\n",
       "      <td>iPhone or iPad</td>\n",
       "      <td>Yes, I currently pay for Duolingo Plus</td>\n",
       "      <td>Daily</td>\n",
       "      <td>Employed full-time</td>\n",
       "      <td>Yes</td>\n",
       "      <td>Female</td>\n",
       "      <td>Movies/TV Shows</td>\n",
       "      <td>I'm extremely committed to learning this langu...</td>\n",
       "      <td>I am using Duolingo to review a language I've ...</td>\n",
       "      <td>I am preparing for a trip</td>\n",
       "      <td>I want to communicate with locals in a meaning...</td>\n",
       "      <td>Intermediate</td>\n",
       "      <td>Not currently a student</td>\n",
       "      <td>1</td>\n",
       "      <td>150</td>\n",
       "    </tr>\n",
       "    <tr>\n",
       "      <td>6069</td>\n",
       "      <td>35ca6ffa72c911e993bcdca9049399ef</td>\n",
       "      <td>55 - 74</td>\n",
       "      <td>$0 - $10,000</td>\n",
       "      <td>DE</td>\n",
       "      <td>Web browser</td>\n",
       "      <td>No, I have never paid for Duolingo Plus</td>\n",
       "      <td>Daily</td>\n",
       "      <td>Retired</td>\n",
       "      <td>Yes</td>\n",
       "      <td>Female</td>\n",
       "      <td>Textbooks</td>\n",
       "      <td>I'm very committed to learning this language.</td>\n",
       "      <td>I am using Duolingo to review a language I've ...</td>\n",
       "      <td>I want to keep my brain healthy</td>\n",
       "      <td>NaN</td>\n",
       "      <td>Beginner</td>\n",
       "      <td>Not currently a student</td>\n",
       "      <td>1</td>\n",
       "      <td>368</td>\n",
       "    </tr>\n",
       "    <tr>\n",
       "      <td>207</td>\n",
       "      <td>35ca8d8272c911e99a76dca9049399ef</td>\n",
       "      <td>55 - 74</td>\n",
       "      <td>$151,000 or more</td>\n",
       "      <td>JP</td>\n",
       "      <td>iPhone or iPad</td>\n",
       "      <td>Yes, I currently pay for Duolingo Plus</td>\n",
       "      <td>Daily</td>\n",
       "      <td>Retired</td>\n",
       "      <td>Yes</td>\n",
       "      <td>Female</td>\n",
       "      <td>Other (please specify)</td>\n",
       "      <td>I'm extremely committed to learning this langu...</td>\n",
       "      <td>I am using Duolingo to review a language I've ...</td>\n",
       "      <td>I want to improve relationships with some of t...</td>\n",
       "      <td>I want to better communicate with my significa...</td>\n",
       "      <td>Beginner</td>\n",
       "      <td>Not currently a student</td>\n",
       "      <td>1</td>\n",
       "      <td>300</td>\n",
       "    </tr>\n",
       "    <tr>\n",
       "      <td>2906</td>\n",
       "      <td>35ca8d8272c911e99a76dca9049399ef</td>\n",
       "      <td>55 - 74</td>\n",
       "      <td>$151,000 or more</td>\n",
       "      <td>JP</td>\n",
       "      <td>iPhone or iPad</td>\n",
       "      <td>Yes, I currently pay for Duolingo Plus</td>\n",
       "      <td>Daily</td>\n",
       "      <td>Retired</td>\n",
       "      <td>Yes</td>\n",
       "      <td>Female</td>\n",
       "      <td>Other apps,Other (please specify)</td>\n",
       "      <td>I'm extremely committed to learning this langu...</td>\n",
       "      <td>I am using Duolingo to review a language I've ...</td>\n",
       "      <td>I want to improve relationships with some of t...</td>\n",
       "      <td>I want to better communicate with my significa...</td>\n",
       "      <td>Beginner</td>\n",
       "      <td>Not currently a student</td>\n",
       "      <td>1</td>\n",
       "      <td>273</td>\n",
       "    </tr>\n",
       "    <tr>\n",
       "      <td>6026</td>\n",
       "      <td>35cace8a72c911e9b1b4dca9049399ef</td>\n",
       "      <td>18-34</td>\n",
       "      <td>$0 - $10,000</td>\n",
       "      <td>RU</td>\n",
       "      <td>iPhone or iPad</td>\n",
       "      <td>No, I have never paid for Duolingo Plus</td>\n",
       "      <td>Less than once a month</td>\n",
       "      <td>Employed full-time</td>\n",
       "      <td>Yes</td>\n",
       "      <td>Male</td>\n",
       "      <td>NaN</td>\n",
       "      <td>I'm slightly committed to learning this language.</td>\n",
       "      <td>I am using Duolingo to learn this language for...</td>\n",
       "      <td>I need to be able to speak the local language ...</td>\n",
       "      <td>I am an immigrant,I am studying abroad</td>\n",
       "      <td>Beginner</td>\n",
       "      <td>Not currently a student</td>\n",
       "      <td>1</td>\n",
       "      <td>230</td>\n",
       "    </tr>\n",
       "    <tr>\n",
       "      <td>6060</td>\n",
       "      <td>35cace8a72c911e9b1b4dca9049399ef</td>\n",
       "      <td>35 - 54</td>\n",
       "      <td>$26,000 - $75,000</td>\n",
       "      <td>FR</td>\n",
       "      <td>iPhone or iPad</td>\n",
       "      <td>No, but I have previously paid for Duolingo Plus</td>\n",
       "      <td>Daily</td>\n",
       "      <td>Employed part-time</td>\n",
       "      <td>Yes</td>\n",
       "      <td>Female</td>\n",
       "      <td>Textbooks</td>\n",
       "      <td>I'm moderately committed to learning this lang...</td>\n",
       "      <td>I am using Duolingo to learn this language for...</td>\n",
       "      <td>I want to advance professionally or economically</td>\n",
       "      <td>Learning this language will be useful in my cu...</td>\n",
       "      <td>Intermediate</td>\n",
       "      <td>Not currently a student</td>\n",
       "      <td>1</td>\n",
       "      <td>345</td>\n",
       "    </tr>\n",
       "  </tbody>\n",
       "</table>\n",
       "</div>"
      ],
      "text/plain": [
       "                               user_id      age      annual_income country  \\\n",
       "30    35ca11b872c911e984abdca9049399ef    18-34  $11,000 - $25,000      JP   \n",
       "447   35ca11b872c911e984abdca9049399ef    18-34       $0 - $10,000      JP   \n",
       "6064  35ca57a372c911e98c79dca9049399ef  35 - 54                NaN      DE   \n",
       "6030  35ca57a372c911e98c79dca9049399ef    18-34  $11,000 - $25,000      JP   \n",
       "6035  35ca6ffa72c911e993bcdca9049399ef    18-34  $26,000 - $75,000      JP   \n",
       "6069  35ca6ffa72c911e993bcdca9049399ef  55 - 74       $0 - $10,000      DE   \n",
       "207   35ca8d8272c911e99a76dca9049399ef  55 - 74   $151,000 or more      JP   \n",
       "2906  35ca8d8272c911e99a76dca9049399ef  55 - 74   $151,000 or more      JP   \n",
       "6026  35cace8a72c911e9b1b4dca9049399ef    18-34       $0 - $10,000      RU   \n",
       "6060  35cace8a72c911e9b1b4dca9049399ef  35 - 54  $26,000 - $75,000      FR   \n",
       "\n",
       "            duolingo_platform  \\\n",
       "30             iPhone or iPad   \n",
       "447            iPhone or iPad   \n",
       "6064  Android phone or tablet   \n",
       "6030           iPhone or iPad   \n",
       "6035           iPhone or iPad   \n",
       "6069              Web browser   \n",
       "207            iPhone or iPad   \n",
       "2906           iPhone or iPad   \n",
       "6026           iPhone or iPad   \n",
       "6060           iPhone or iPad   \n",
       "\n",
       "                                   duolingo_subscriber  \\\n",
       "30             No, I have never paid for Duolingo Plus   \n",
       "447            No, I have never paid for Duolingo Plus   \n",
       "6064           No, I have never paid for Duolingo Plus   \n",
       "6030           No, I have never paid for Duolingo Plus   \n",
       "6035            Yes, I currently pay for Duolingo Plus   \n",
       "6069           No, I have never paid for Duolingo Plus   \n",
       "207             Yes, I currently pay for Duolingo Plus   \n",
       "2906            Yes, I currently pay for Duolingo Plus   \n",
       "6026           No, I have never paid for Duolingo Plus   \n",
       "6060  No, but I have previously paid for Duolingo Plus   \n",
       "\n",
       "              duolingo_usage   employment_status future_contact  gender  \\\n",
       "30                     Daily  Employed part-time            Yes  Female   \n",
       "447                    Daily  Employed part-time            Yes  Female   \n",
       "6064                   Daily  Employed full-time            Yes    Male   \n",
       "6030                   Daily          Unemployed            Yes    Male   \n",
       "6035                   Daily  Employed full-time            Yes  Female   \n",
       "6069                   Daily             Retired            Yes  Female   \n",
       "207                    Daily             Retired            Yes  Female   \n",
       "2906                   Daily             Retired            Yes  Female   \n",
       "6026  Less than once a month  Employed full-time            Yes    Male   \n",
       "6060                   Daily  Employed part-time            Yes  Female   \n",
       "\n",
       "                                        other_resources  \\\n",
       "30    Speak with others (language events, conversati...   \n",
       "447                               Online language class   \n",
       "6064                                         Other apps   \n",
       "6030  Textbooks,Stories/novels/children's books,Movi...   \n",
       "6035                                    Movies/TV Shows   \n",
       "6069                                          Textbooks   \n",
       "207                              Other (please specify)   \n",
       "2906                  Other apps,Other (please specify)   \n",
       "6026                                                NaN   \n",
       "6060                                          Textbooks   \n",
       "\n",
       "                            primary_language_commitment  \\\n",
       "30    I'm extremely committed to learning this langu...   \n",
       "447   I'm extremely committed to learning this langu...   \n",
       "6064      I'm very committed to learning this language.   \n",
       "6030  I'm extremely committed to learning this langu...   \n",
       "6035  I'm extremely committed to learning this langu...   \n",
       "6069      I'm very committed to learning this language.   \n",
       "207   I'm extremely committed to learning this langu...   \n",
       "2906  I'm extremely committed to learning this langu...   \n",
       "6026  I'm slightly committed to learning this language.   \n",
       "6060  I'm moderately committed to learning this lang...   \n",
       "\n",
       "                                primary_language_review  \\\n",
       "30    I am using Duolingo to learn this language for...   \n",
       "447   I am using Duolingo to learn this language for...   \n",
       "6064  I am using Duolingo to learn this language for...   \n",
       "6030  I am using Duolingo to learn this language for...   \n",
       "6035  I am using Duolingo to review a language I've ...   \n",
       "6069  I am using Duolingo to review a language I've ...   \n",
       "207   I am using Duolingo to review a language I've ...   \n",
       "2906  I am using Duolingo to review a language I've ...   \n",
       "6026  I am using Duolingo to learn this language for...   \n",
       "6060  I am using Duolingo to learn this language for...   \n",
       "\n",
       "                            primary_language_motivation  \\\n",
       "30                           I want to challenge myself   \n",
       "447                          I want to challenge myself   \n",
       "6064  I need to be able to speak the local language ...   \n",
       "6030      I want my family to learn a language together   \n",
       "6035                          I am preparing for a trip   \n",
       "6069                    I want to keep my brain healthy   \n",
       "207   I want to improve relationships with some of t...   \n",
       "2906  I want to improve relationships with some of t...   \n",
       "6026  I need to be able to speak the local language ...   \n",
       "6060   I want to advance professionally or economically   \n",
       "\n",
       "                   primary_language_motivation_followup  \\\n",
       "30                                                  NaN   \n",
       "447                                                 NaN   \n",
       "6064                               I am studying abroad   \n",
       "6030                                                NaN   \n",
       "6035  I want to communicate with locals in a meaning...   \n",
       "6069                                                NaN   \n",
       "207   I want to better communicate with my significa...   \n",
       "2906  I want to better communicate with my significa...   \n",
       "6026             I am an immigrant,I am studying abroad   \n",
       "6060  Learning this language will be useful in my cu...   \n",
       "\n",
       "     primary_language_proficiency                  student  survey_complete  \\\n",
       "30                       Beginner        Full-time student                1   \n",
       "447                      Beginner        Part-time student                1   \n",
       "6064                     Beginner  Not currently a student                1   \n",
       "6030                 Intermediate  Not currently a student                1   \n",
       "6035                 Intermediate  Not currently a student                1   \n",
       "6069                     Beginner  Not currently a student                1   \n",
       "207                      Beginner  Not currently a student                1   \n",
       "2906                     Beginner  Not currently a student                1   \n",
       "6026                     Beginner  Not currently a student                1   \n",
       "6060                 Intermediate  Not currently a student                1   \n",
       "\n",
       "      time_spent_seconds  \n",
       "30                   169  \n",
       "447                  346  \n",
       "6064                 243  \n",
       "6030                 311  \n",
       "6035                 150  \n",
       "6069                 368  \n",
       "207                  300  \n",
       "2906                 273  \n",
       "6026                 230  \n",
       "6060                 345  "
      ]
     },
     "execution_count": 583,
     "metadata": {},
     "output_type": "execute_result"
    }
   ],
   "source": [
    "# Are some users sharing the same account? \n",
    "# The same user_id is reported from DE and JP, RU and FR for example\n",
    "survey[survey.user_id.isin(repeated_users.index.to_list())].sort_values(\"user_id\").head(10)"
   ]
  },
  {
   "cell_type": "code",
   "execution_count": 584,
   "metadata": {},
   "outputs": [
    {
     "data": {
      "text/plain": [
       "35 - 54        2019\n",
       "18-34          1779\n",
       "55 - 74        1572\n",
       "Under 18        329\n",
       "75 or older     139\n",
       "Name: age, dtype: int64"
      ]
     },
     "execution_count": 584,
     "metadata": {},
     "output_type": "execute_result"
    }
   ],
   "source": [
    "# Five age groups. No typos in categories. How should we guess the age for people with no age info? \n",
    "survey.age.value_counts()\n",
    "# One idea: (15*329+26*2019+64.5*1572+44.5*2019+85*139) / (2019+1779+1572+329+139)\n",
    "# Assign them to 35-54 group. This is also the group with most users. "
   ]
  },
  {
   "cell_type": "code",
   "execution_count": 585,
   "metadata": {},
   "outputs": [
    {
     "data": {
      "text/plain": [
       "$0 - $10,000          1829\n",
       "$26,000 - $75,000     1437\n",
       "$11,000 - $25,000     1017\n",
       "$76,000 - $150,000     581\n",
       "$151,000 or more       318\n",
       "Name: annual_income, dtype: int64"
      ]
     },
     "execution_count": 585,
     "metadata": {},
     "output_type": "execute_result"
    }
   ],
   "source": [
    "# Five income groups. How should we guess the income for people with no income info? \n",
    "survey.annual_income.value_counts()\n",
    "# 32.5K if we assume 151k ore more's mean is 300\n",
    "# (5*1829+(75-26)/2*1437+(25-11)/2*1017+(150-76)/2*581+300*318)/(1829+1437+1017+581+318)\n",
    "# 26.4K if we assume 151k ore more's mean is 200\n",
    "# (5*1829+(75-26)/2*1437+(25-11)/2*1017+(150-76)/2*581+300*318)/(1829+1437+1017+581+318)\n",
    "# Assign them to 26-75 K group. "
   ]
  },
  {
   "cell_type": "code",
   "execution_count": 586,
   "metadata": {},
   "outputs": [
    {
     "data": {
      "text/plain": [
       "FR    1006\n",
       "JP     899\n",
       "MX     892\n",
       "RU     684\n",
       "GB     658\n",
       "DE     625\n",
       "US     459\n",
       "BR     375\n",
       "CO     314\n",
       "TW     275\n",
       "Name: country, dtype: int64"
      ]
     },
     "execution_count": 586,
     "metadata": {},
     "output_type": "execute_result"
    }
   ],
   "source": [
    "# Confirm that there are no typos, and the country codes are two digits. \n",
    "# Think about grouping them by continent? \n",
    "# France, Japan, Mexico, Russia, UK, Germany, US, Belize, Colombia, Taiwan\n",
    "# Where does Russia go...?\n",
    "# Should UK be grouped with US since they also speak English? \n",
    "# France, Germany, UK, Russia\n",
    "# Japan, Taiwan\n",
    "# US\n",
    "# Mexico, Belize, Colombia\n",
    "survey.country.value_counts()"
   ]
  },
  {
   "cell_type": "code",
   "execution_count": 587,
   "metadata": {},
   "outputs": [
    {
     "data": {
      "text/plain": [
       "Android phone or tablet    2594\n",
       "iPhone or iPad             2496\n",
       "Web browser                 821\n",
       "Name: duolingo_platform, dtype: int64"
      ]
     },
     "execution_count": 587,
     "metadata": {},
     "output_type": "execute_result"
    }
   ],
   "source": [
    "# Will randomly assign 276 people to keep the current ratio. \n",
    "survey.duolingo_platform.value_counts()"
   ]
  },
  {
   "cell_type": "code",
   "execution_count": 588,
   "metadata": {},
   "outputs": [
    {
     "data": {
      "text/plain": [
       "No, I have never paid for Duolingo Plus             3914\n",
       "Yes, I currently pay for Duolingo Plus              1622\n",
       "I don't know if I pay for Duolingo Plus              212\n",
       "No, but I have previously paid for Duolingo Plus     153\n",
       "Name: duolingo_subscriber, dtype: int64"
      ]
     },
     "execution_count": 588,
     "metadata": {},
     "output_type": "execute_result"
    }
   ],
   "source": [
    "# Never, Past, Current, IDK\n",
    "# If there is no info, they go to to IDK category.\n",
    "survey.duolingo_subscriber.value_counts()"
   ]
  },
  {
   "cell_type": "code",
   "execution_count": 589,
   "metadata": {},
   "outputs": [
    {
     "data": {
      "text/plain": [
       "Daily                     4341\n",
       "Weekly                    1070\n",
       "Monthly                    292\n",
       "Less than once a month     178\n",
       "I don't use Duolingo        30\n",
       "Name: duolingo_usage, dtype: int64"
      ]
     },
     "execution_count": 589,
     "metadata": {},
     "output_type": "execute_result"
    }
   ],
   "source": [
    "# If they did not answer, it is likely that they don't use heavily. \n",
    "# Assign them to the last group--I don't use\n",
    "survey.duolingo_usage.value_counts()"
   ]
  },
  {
   "cell_type": "code",
   "execution_count": 590,
   "metadata": {},
   "outputs": [
    {
     "data": {
      "text/plain": [
       "Employed full-time    2904\n",
       "Retired               1043\n",
       "Unemployed             937\n",
       "Employed part-time     846\n",
       "Name: employment_status, dtype: int64"
      ]
     },
     "execution_count": 590,
     "metadata": {},
     "output_type": "execute_result"
    }
   ],
   "source": [
    "# Will randomly assign 457 people to keep the current ratio. \n",
    "survey.employment_status.value_counts()"
   ]
  },
  {
   "cell_type": "code",
   "execution_count": 591,
   "metadata": {},
   "outputs": [
    {
     "data": {
      "text/plain": [
       "Yes    4483\n",
       "No      963\n",
       "Name: future_contact, dtype: int64"
      ]
     },
     "execution_count": 591,
     "metadata": {},
     "output_type": "execute_result"
    }
   ],
   "source": [
    "# If they did not answer, it is likely a No. \n",
    "survey.future_contact.value_counts()"
   ]
  },
  {
   "cell_type": "code",
   "execution_count": 592,
   "metadata": {},
   "outputs": [
    {
     "data": {
      "text/plain": [
       "Female               2927\n",
       "Male                 2790\n",
       "Prefer not to say      98\n",
       "Other                  23\n",
       "Name: gender, dtype: int64"
      ]
     },
     "execution_count": 592,
     "metadata": {},
     "output_type": "execute_result"
    }
   ],
   "source": [
    "# If they did not answer, put them in Prefer not to say \n",
    "# Think about grouping the last two groups? \n",
    "survey.gender.value_counts()"
   ]
  },
  {
   "cell_type": "code",
   "execution_count": 593,
   "metadata": {},
   "outputs": [
    {
     "data": {
      "text/plain": [
       "Movies/TV Shows                                                                                                                                                         555\n",
       "Textbooks                                                                                                                                                               371\n",
       "Other apps                                                                                                                                                              349\n",
       "Other (please specify)                                                                                                                                                  277\n",
       "Speak with others (language events, conversation groups, meet-ups, etc.)                                                                                                246\n",
       "                                                                                                                                                                       ... \n",
       "Other apps,Textbooks,Stories/novels/children's books,Movies/TV Shows,Speak with others (language events, conversation groups, meet-ups, etc.),Other (please specify)      1\n",
       "Stories/novels/children's books,Speak with others (language events, conversation groups, meet-ups, etc.),Private tutor,Other (please specify)                             1\n",
       "Other apps,Online language class,Private tutor                                                                                                                            1\n",
       "Other apps,Textbooks,In-person language class,Online language class                                                                                                       1\n",
       "Other apps,Textbooks,Stories/novels/children's books,Speak with others (language events, conversation groups, meet-ups, etc.),In-person language class                    1\n",
       "Name: other_resources, Length: 252, dtype: int64"
      ]
     },
     "execution_count": 593,
     "metadata": {},
     "output_type": "execute_result"
    }
   ],
   "source": [
    "# Okay, this needs some text mining\n",
    "survey.other_resources.value_counts()"
   ]
  },
  {
   "cell_type": "code",
   "execution_count": 594,
   "metadata": {},
   "outputs": [
    {
     "data": {
      "text/plain": [
       "I'm very committed to learning this language.          2365\n",
       "I'm moderately committed to learning this language.    2025\n",
       "I'm extremely committed to learning this language.      867\n",
       "I'm slightly committed to learning this language.       635\n",
       "I'm not at all committed to learning this language.     130\n",
       "Name: primary_language_commitment, dtype: int64"
      ]
     },
     "execution_count": 594,
     "metadata": {},
     "output_type": "execute_result"
    }
   ],
   "source": [
    "# Can put into 0-4 scale\n",
    "# No info-> put it into least category?\n",
    "survey.primary_language_commitment.value_counts()"
   ]
  },
  {
   "cell_type": "code",
   "execution_count": 595,
   "metadata": {},
   "outputs": [
    {
     "data": {
      "text/plain": [
       "I am using Duolingo to learn this language for the first time.    3036\n",
       "I am using Duolingo to review a language I've studied before.     2978\n",
       "Name: primary_language_review, dtype: int64"
      ]
     },
     "execution_count": 595,
     "metadata": {},
     "output_type": "execute_result"
    }
   ],
   "source": [
    "# Assuming the first timer is safer? Can split 173 people into half and half? \n",
    "survey.primary_language_review.value_counts()"
   ]
  },
  {
   "cell_type": "code",
   "execution_count": 596,
   "metadata": {},
   "outputs": [
    {
     "data": {
      "text/plain": [
       "I need to be able to speak the local language where I live            812\n",
       "I want to use my time more productively                               740\n",
       "I am preparing for a trip                                             711\n",
       "I want to keep my brain healthy                                       709\n",
       "I want to connect with my heritage or identity                        636\n",
       "I want to improve relationships with some of the people in my life    499\n",
       "I like to learn new languages                                         455\n",
       "I want my family to learn a language together                         404\n",
       "I am interested in a culture that speaks this language                327\n",
       "I want to advance professionally or economically                      281\n",
       "I want to challenge myself                                            164\n",
       "I need to learn this language for school                              152\n",
       "I don't want to forget what I've previously learned                    58\n",
       "Name: primary_language_motivation, dtype: int64"
      ]
     },
     "execution_count": 596,
     "metadata": {},
     "output_type": "execute_result"
    }
   ],
   "source": [
    "# How do we assign 239 people who did not answer? \n",
    "# Each category is not that big, we can create another category with these 239?\n",
    "# Think about grouping some answers to fewer categories. \n",
    "survey.primary_language_motivation.value_counts()"
   ]
  },
  {
   "cell_type": "code",
   "execution_count": 597,
   "metadata": {},
   "outputs": [
    {
     "data": {
      "text/plain": [
       "Beginner        3210\n",
       "Intermediate    2460\n",
       "Advanced         357\n",
       "Name: primary_language_proficiency, dtype: int64"
      ]
     },
     "execution_count": 597,
     "metadata": {},
     "output_type": "execute_result"
    }
   ],
   "source": [
    "# Assume that 160 ppl are beginners? 160 NaNs->? \n",
    "survey.primary_language_proficiency.value_counts()"
   ]
  },
  {
   "cell_type": "code",
   "execution_count": 598,
   "metadata": {},
   "outputs": [
    {
     "data": {
      "text/plain": [
       "Not currently a student    4408\n",
       "Full-time student           752\n",
       "Part-time student           363\n",
       "Name: student, dtype: int64"
      ]
     },
     "execution_count": 598,
     "metadata": {},
     "output_type": "execute_result"
    }
   ],
   "source": [
    "# Assign 664 NaN to Not student\n",
    "survey.student.value_counts()"
   ]
  },
  {
   "cell_type": "code",
   "execution_count": 599,
   "metadata": {},
   "outputs": [
    {
     "data": {
      "text/plain": [
       "1    5729\n",
       "0     458\n",
       "Name: survey_complete, dtype: int64"
      ]
     },
     "execution_count": 599,
     "metadata": {},
     "output_type": "execute_result"
    }
   ],
   "source": [
    "# What does it mean that the survey is not complete? \n",
    "survey.survey_complete.value_counts()"
   ]
  },
  {
   "cell_type": "code",
   "execution_count": 600,
   "metadata": {},
   "outputs": [
    {
     "data": {
      "text/plain": [
       "Other (please specify)                                                                                                                                                                                                      307\n",
       "I am a refugee                                                                                                                                                                                                               76\n",
       "I am an immigrant,I am a refugee                                                                                                                                                                                             73\n",
       "I am an immigrant,I am an expat,I am studying abroad                                                                                                                                                                         72\n",
       "I am an immigrant,I am an expat                                                                                                                                                                                              72\n",
       "                                                                                                                                                                                                                           ... \n",
       "I want to learn some basics in the local language,I have an upcoming trip                                                                                                                                                     5\n",
       "I want to communicate with locals in a meaningful way,I want to show respect by speaking the local language,I have an upcoming trip,I am planning to move to a different country                                              5\n",
       "I want to learn some basics in the local language,I want to communicate with locals in a meaningful way,Someday I would like to travel to a country that uses this language,I am planning to move to a different country      5\n",
       "I want to communicate with locals in a meaningful way,I am planning to move to a different country                                                                                                                            4\n",
       "I am required to use Duolingo in a class I am enrolled in,I want to prepare for a placement test                                                                                                                              3\n",
       "Name: primary_language_motivation_followup, Length: 146, dtype: int64"
      ]
     },
     "execution_count": 600,
     "metadata": {},
     "output_type": "execute_result"
    }
   ],
   "source": [
    "# Okay another text mining: get key words\n",
    "survey.primary_language_motivation_followup.value_counts()"
   ]
  },
  {
   "cell_type": "code",
   "execution_count": 601,
   "metadata": {},
   "outputs": [
    {
     "data": {
      "text/plain": [
       "user_id                                   0\n",
       "age                                     340\n",
       "annual_income                           370\n",
       "country                                   0\n",
       "duolingo_platform                       265\n",
       "duolingo_subscriber                     266\n",
       "duolingo_usage                          264\n",
       "employment_status                       347\n",
       "future_contact                          458\n",
       "gender                                  339\n",
       "other_resources                         303\n",
       "primary_language_commitment             159\n",
       "primary_language_review                 160\n",
       "primary_language_motivation             224\n",
       "primary_language_motivation_followup    304\n",
       "primary_language_proficiency            156\n",
       "student                                 355\n",
       "survey_complete                           0\n",
       "time_spent_seconds                        0\n",
       "dtype: int64"
      ]
     },
     "execution_count": 601,
     "metadata": {},
     "output_type": "execute_result"
    }
   ],
   "source": [
    "# Among 458 incomplete surveys \n",
    "survey[survey.survey_complete==0].isnull().sum(axis=0)"
   ]
  },
  {
   "cell_type": "code",
   "execution_count": 602,
   "metadata": {},
   "outputs": [
    {
     "data": {
      "text/plain": [
       "count      6187.000000\n",
       "mean       3325.057055\n",
       "std       26268.864929\n",
       "min        -297.000000\n",
       "25%         234.000000\n",
       "50%         325.000000\n",
       "75%         470.000000\n",
       "max      584939.000000\n",
       "Name: time_spent_seconds, dtype: float64"
      ]
     },
     "execution_count": 602,
     "metadata": {},
     "output_type": "execute_result"
    }
   ],
   "source": [
    "# How did we get negative seconds????\n",
    "survey.time_spent_seconds.describe()"
   ]
  },
  {
   "cell_type": "code",
   "execution_count": 603,
   "metadata": {},
   "outputs": [
    {
     "data": {
      "image/png": "[encoded data removed]",
      "text/plain": [
       "<Figure size 576x288 with 2 Axes>"
      ]
     },
     "metadata": {},
     "output_type": "display_data"
    }
   ],
   "source": [
    "plt.subplots(figsize=(8,4))\n",
    "plt.subplot(1,2,1)\n",
    "plt.plot(np.sort(survey.time_spent_seconds))\n",
    "plt.ylabel(\"time_spent_seconds\")\n",
    "plt.subplot(1,2,2)\n",
    "sns.boxplot(survey.time_spent_seconds, orient=\"v\")\n",
    "plt.tight_layout()\n",
    "\n",
    "# 25-75% percentille range = [234-470] -> See below\n",
    "# 10-90% percentile range = [173-769.4] -> See below\n",
    "# 5-95% percentile range = [124, 1337.9] -> See below\n",
    "# Think about how to deal with extreme outliers. Cap it at 3600 secs? Lower cap at 0? "
   ]
  },
  {
   "cell_type": "code",
   "execution_count": 604,
   "metadata": {},
   "outputs": [
    {
     "name": "stdout",
     "output_type": "stream",
     "text": [
      "234.0 470.0\n",
      "173.0 769.4000000000005\n",
      "124.0 1336.8999999999987\n",
      "36.0 3404.880000000012\n",
      "13.719999999999999 9468.71999999993\n",
      "-171.14 134542.98000000103\n"
     ]
    }
   ],
   "source": [
    "d=survey.time_spent_seconds\n",
    "print(d.quantile(.25), d.quantile(.75))\n",
    "print(d.quantile(.10), d.quantile(.90))\n",
    "print(d.quantile(.05), d.quantile(.95))\n",
    "print(d.quantile(.03), d.quantile(.97))\n",
    "print(d.quantile(.02), d.quantile(.98))\n",
    "print(d.quantile(.01), d.quantile(.99))"
   ]
  },
  {
   "cell_type": "code",
   "execution_count": 668,
   "metadata": {},
   "outputs": [
    {
     "name": "stdout",
     "output_type": "stream",
     "text": [
      "4.0 134542.98000000103\n"
     ]
    }
   ],
   "source": [
    "print(d.quantile(.0155), d.quantile(.99))"
   ]
  },
  {
   "cell_type": "code",
   "execution_count": 605,
   "metadata": {},
   "outputs": [
    {
     "data": {
      "text/plain": [
       "count     93.000000\n",
       "mean    -204.483871\n",
       "std       63.427400\n",
       "min     -297.000000\n",
       "25%     -263.000000\n",
       "50%     -211.000000\n",
       "75%     -145.000000\n",
       "max     -106.000000\n",
       "Name: time_spent_seconds, dtype: float64"
      ]
     },
     "execution_count": 605,
     "metadata": {},
     "output_type": "execute_result"
    }
   ],
   "source": [
    "survey[survey.time_spent_seconds <0].time_spent_seconds.describe()"
   ]
  },
  {
   "cell_type": "markdown",
   "metadata": {},
   "source": [
    "# 2. Investigate usage data"
   ]
  },
  {
   "cell_type": "code",
   "execution_count": 606,
   "metadata": {},
   "outputs": [
    {
     "data": {
      "text/html": [
       "<div>\n",
       "<style scoped>\n",
       "    .dataframe tbody tr th:only-of-type {\n",
       "        vertical-align: middle;\n",
       "    }\n",
       "\n",
       "    .dataframe tbody tr th {\n",
       "        vertical-align: top;\n",
       "    }\n",
       "\n",
       "    .dataframe thead th {\n",
       "        text-align: right;\n",
       "    }\n",
       "</style>\n",
       "<table border=\"1\" class=\"dataframe\">\n",
       "  <thead>\n",
       "    <tr style=\"text-align: right;\">\n",
       "      <th></th>\n",
       "      <th>user_id</th>\n",
       "      <th>duolingo_start_date</th>\n",
       "      <th>daily_goal</th>\n",
       "      <th>highest_course_progress</th>\n",
       "      <th>took_placement_test</th>\n",
       "      <th>purchased_subscription</th>\n",
       "      <th>highest_crown_count</th>\n",
       "      <th>n_active_days</th>\n",
       "      <th>n_lessons_started</th>\n",
       "      <th>n_lessons_completed</th>\n",
       "      <th>longest_streak</th>\n",
       "      <th>n_days_on_platform</th>\n",
       "    </tr>\n",
       "  </thead>\n",
       "  <tbody>\n",
       "    <tr>\n",
       "      <td>0</td>\n",
       "      <td>35cb7e8f72c911e9888edca9049399ef</td>\n",
       "      <td>2018-06-20 21:14:00</td>\n",
       "      <td>NaN</td>\n",
       "      <td>46.0</td>\n",
       "      <td>True</td>\n",
       "      <td>False</td>\n",
       "      <td>277.0</td>\n",
       "      <td>88</td>\n",
       "      <td>741.0</td>\n",
       "      <td>668.0</td>\n",
       "      <td>135</td>\n",
       "      <td>137</td>\n",
       "    </tr>\n",
       "    <tr>\n",
       "      <td>1</td>\n",
       "      <td>35ca34fd72c911e99ed6dca9049399ef</td>\n",
       "      <td>2017-08-08 05:01:00</td>\n",
       "      <td>NaN</td>\n",
       "      <td>50.0</td>\n",
       "      <td>True</td>\n",
       "      <td>False</td>\n",
       "      <td>62.0</td>\n",
       "      <td>16</td>\n",
       "      <td>57.0</td>\n",
       "      <td>57.0</td>\n",
       "      <td>6</td>\n",
       "      <td>453</td>\n",
       "    </tr>\n",
       "    <tr>\n",
       "      <td>2</td>\n",
       "      <td>35d1a54a72c911e98e25dca9049399ef</td>\n",
       "      <td>2014-10-15 17:55:00</td>\n",
       "      <td>1.0</td>\n",
       "      <td>71.0</td>\n",
       "      <td>False</td>\n",
       "      <td>False</td>\n",
       "      <td>202.0</td>\n",
       "      <td>29</td>\n",
       "      <td>315.0</td>\n",
       "      <td>295.0</td>\n",
       "      <td>55</td>\n",
       "      <td>1481</td>\n",
       "    </tr>\n",
       "  </tbody>\n",
       "</table>\n",
       "</div>"
      ],
      "text/plain": [
       "                            user_id duolingo_start_date  daily_goal  \\\n",
       "0  35cb7e8f72c911e9888edca9049399ef 2018-06-20 21:14:00         NaN   \n",
       "1  35ca34fd72c911e99ed6dca9049399ef 2017-08-08 05:01:00         NaN   \n",
       "2  35d1a54a72c911e98e25dca9049399ef 2014-10-15 17:55:00         1.0   \n",
       "\n",
       "   highest_course_progress took_placement_test  purchased_subscription  \\\n",
       "0                     46.0                True                   False   \n",
       "1                     50.0                True                   False   \n",
       "2                     71.0               False                   False   \n",
       "\n",
       "   highest_crown_count  n_active_days  n_lessons_started  n_lessons_completed  \\\n",
       "0                277.0             88              741.0                668.0   \n",
       "1                 62.0             16               57.0                 57.0   \n",
       "2                202.0             29              315.0                295.0   \n",
       "\n",
       "   longest_streak  n_days_on_platform  \n",
       "0             135                 137  \n",
       "1               6                 453  \n",
       "2              55                1481  "
      ]
     },
     "execution_count": 606,
     "metadata": {},
     "output_type": "execute_result"
    }
   ],
   "source": [
    "usage.head(3)"
   ]
  },
  {
   "cell_type": "code",
   "execution_count": 607,
   "metadata": {},
   "outputs": [
    {
     "name": "stdout",
     "output_type": "stream",
     "text": [
      "<class 'pandas.core.frame.DataFrame'>\n",
      "RangeIndex: 6149 entries, 0 to 6148\n",
      "Data columns (total 12 columns):\n",
      "user_id                    6149 non-null object\n",
      "duolingo_start_date        6149 non-null datetime64[ns]\n",
      "daily_goal                 2687 non-null float64\n",
      "highest_course_progress    6135 non-null float64\n",
      "took_placement_test        6135 non-null object\n",
      "purchased_subscription     6149 non-null bool\n",
      "highest_crown_count        5857 non-null float64\n",
      "n_active_days              6149 non-null int64\n",
      "n_lessons_started          5993 non-null float64\n",
      "n_lessons_completed        5993 non-null float64\n",
      "longest_streak             6149 non-null int64\n",
      "n_days_on_platform         6149 non-null int64\n",
      "dtypes: bool(1), datetime64[ns](1), float64(5), int64(3), object(2)\n",
      "memory usage: 534.6+ KB\n"
     ]
    }
   ],
   "source": [
    "usage.info()"
   ]
  },
  {
   "cell_type": "code",
   "execution_count": 608,
   "metadata": {},
   "outputs": [
    {
     "data": {
      "text/plain": [
       "user_id                    6114\n",
       "duolingo_start_date        6126\n",
       "daily_goal                    7\n",
       "highest_course_progress      91\n",
       "took_placement_test           2\n",
       "purchased_subscription        2\n",
       "highest_crown_count         439\n",
       "n_active_days               166\n",
       "n_lessons_started           958\n",
       "n_lessons_completed         943\n",
       "longest_streak              692\n",
       "n_days_on_platform         1751\n",
       "dtype: int64"
      ]
     },
     "execution_count": 608,
     "metadata": {},
     "output_type": "execute_result"
    }
   ],
   "source": [
    "# There are only 6114 unique user Id's, there are 6149 survey obsevation \n",
    "usage.nunique()"
   ]
  },
  {
   "cell_type": "code",
   "execution_count": 609,
   "metadata": {},
   "outputs": [
    {
     "data": {
      "text/plain": [
       "user_id                       0\n",
       "duolingo_start_date           0\n",
       "daily_goal                 3462\n",
       "highest_course_progress      14\n",
       "took_placement_test          14\n",
       "purchased_subscription        0\n",
       "highest_crown_count         292\n",
       "n_active_days                 0\n",
       "n_lessons_started           156\n",
       "n_lessons_completed         156\n",
       "longest_streak                0\n",
       "n_days_on_platform            0\n",
       "dtype: int64"
      ]
     },
     "execution_count": 609,
     "metadata": {},
     "output_type": "execute_result"
    }
   ],
   "source": [
    "usage.isnull().sum()"
   ]
  },
  {
   "cell_type": "code",
   "execution_count": 610,
   "metadata": {},
   "outputs": [
    {
     "data": {
      "text/plain": [
       "35"
      ]
     },
     "execution_count": 610,
     "metadata": {},
     "output_type": "execute_result"
    }
   ],
   "source": [
    "user_list_usage=usage.user_id.value_counts()\n",
    "repeated_users_usage=user_list_usage[user_list_usage >1]\n",
    "len(repeated_users_usage)"
   ]
  },
  {
   "cell_type": "code",
   "execution_count": 611,
   "metadata": {},
   "outputs": [
    {
     "data": {
      "text/html": [
       "<div>\n",
       "<style scoped>\n",
       "    .dataframe tbody tr th:only-of-type {\n",
       "        vertical-align: middle;\n",
       "    }\n",
       "\n",
       "    .dataframe tbody tr th {\n",
       "        vertical-align: top;\n",
       "    }\n",
       "\n",
       "    .dataframe thead th {\n",
       "        text-align: right;\n",
       "    }\n",
       "</style>\n",
       "<table border=\"1\" class=\"dataframe\">\n",
       "  <thead>\n",
       "    <tr style=\"text-align: right;\">\n",
       "      <th></th>\n",
       "      <th>user_id</th>\n",
       "      <th>duolingo_start_date</th>\n",
       "      <th>daily_goal</th>\n",
       "      <th>highest_course_progress</th>\n",
       "      <th>took_placement_test</th>\n",
       "      <th>purchased_subscription</th>\n",
       "      <th>highest_crown_count</th>\n",
       "      <th>n_active_days</th>\n",
       "      <th>n_lessons_started</th>\n",
       "      <th>n_lessons_completed</th>\n",
       "      <th>longest_streak</th>\n",
       "      <th>n_days_on_platform</th>\n",
       "    </tr>\n",
       "  </thead>\n",
       "  <tbody>\n",
       "    <tr>\n",
       "      <td>6043</td>\n",
       "      <td>35cbac4c72c911e9ae1edca9049399ef</td>\n",
       "      <td>2018-09-25 01:48:00</td>\n",
       "      <td>NaN</td>\n",
       "      <td>16.0</td>\n",
       "      <td>False</td>\n",
       "      <td>False</td>\n",
       "      <td>150.0</td>\n",
       "      <td>36</td>\n",
       "      <td>623.0</td>\n",
       "      <td>595.0</td>\n",
       "      <td>11</td>\n",
       "      <td>40</td>\n",
       "    </tr>\n",
       "    <tr>\n",
       "      <td>6010</td>\n",
       "      <td>35cbac4c72c911e9ae1edca9049399ef</td>\n",
       "      <td>2015-03-03 23:17:00</td>\n",
       "      <td>50.0</td>\n",
       "      <td>83.0</td>\n",
       "      <td>True</td>\n",
       "      <td>False</td>\n",
       "      <td>90.0</td>\n",
       "      <td>17</td>\n",
       "      <td>69.0</td>\n",
       "      <td>67.0</td>\n",
       "      <td>3</td>\n",
       "      <td>1342</td>\n",
       "    </tr>\n",
       "    <tr>\n",
       "      <td>6029</td>\n",
       "      <td>35cbb95972c911e99387dca9049399ef</td>\n",
       "      <td>2018-05-15 16:57:00</td>\n",
       "      <td>30.0</td>\n",
       "      <td>7.0</td>\n",
       "      <td>False</td>\n",
       "      <td>False</td>\n",
       "      <td>12.0</td>\n",
       "      <td>5</td>\n",
       "      <td>1.0</td>\n",
       "      <td>0.0</td>\n",
       "      <td>0</td>\n",
       "      <td>173</td>\n",
       "    </tr>\n",
       "    <tr>\n",
       "      <td>5996</td>\n",
       "      <td>35cbb95972c911e99387dca9049399ef</td>\n",
       "      <td>2017-08-08 14:50:00</td>\n",
       "      <td>NaN</td>\n",
       "      <td>35.0</td>\n",
       "      <td>True</td>\n",
       "      <td>True</td>\n",
       "      <td>107.0</td>\n",
       "      <td>93</td>\n",
       "      <td>415.0</td>\n",
       "      <td>399.0</td>\n",
       "      <td>114</td>\n",
       "      <td>453</td>\n",
       "    </tr>\n",
       "    <tr>\n",
       "      <td>6034</td>\n",
       "      <td>35cd197572c911e9bc27dca9049399ef</td>\n",
       "      <td>2018-07-04 08:52:00</td>\n",
       "      <td>30.0</td>\n",
       "      <td>29.0</td>\n",
       "      <td>False</td>\n",
       "      <td>False</td>\n",
       "      <td>58.0</td>\n",
       "      <td>44</td>\n",
       "      <td>134.0</td>\n",
       "      <td>128.0</td>\n",
       "      <td>7</td>\n",
       "      <td>123</td>\n",
       "    </tr>\n",
       "    <tr>\n",
       "      <td>6001</td>\n",
       "      <td>35cd197572c911e9bc27dca9049399ef</td>\n",
       "      <td>2018-06-05 20:54:00</td>\n",
       "      <td>NaN</td>\n",
       "      <td>44.0</td>\n",
       "      <td>True</td>\n",
       "      <td>False</td>\n",
       "      <td>95.0</td>\n",
       "      <td>92</td>\n",
       "      <td>538.0</td>\n",
       "      <td>512.0</td>\n",
       "      <td>147</td>\n",
       "      <td>152</td>\n",
       "    </tr>\n",
       "    <tr>\n",
       "      <td>6036</td>\n",
       "      <td>35cd2cb572c911e9ae3cdca9049399ef</td>\n",
       "      <td>2014-12-13 05:23:00</td>\n",
       "      <td>30.0</td>\n",
       "      <td>25.0</td>\n",
       "      <td>False</td>\n",
       "      <td>False</td>\n",
       "      <td>45.0</td>\n",
       "      <td>4</td>\n",
       "      <td>4.0</td>\n",
       "      <td>1.0</td>\n",
       "      <td>0</td>\n",
       "      <td>1422</td>\n",
       "    </tr>\n",
       "    <tr>\n",
       "      <td>6003</td>\n",
       "      <td>35cd2cb572c911e9ae3cdca9049399ef</td>\n",
       "      <td>2016-06-04 02:05:00</td>\n",
       "      <td>NaN</td>\n",
       "      <td>55.0</td>\n",
       "      <td>True</td>\n",
       "      <td>False</td>\n",
       "      <td>81.0</td>\n",
       "      <td>20</td>\n",
       "      <td>141.0</td>\n",
       "      <td>150.0</td>\n",
       "      <td>6000</td>\n",
       "      <td>883</td>\n",
       "    </tr>\n",
       "    <tr>\n",
       "      <td>6017</td>\n",
       "      <td>35cd830272c911e99cacdca9049399ef</td>\n",
       "      <td>2017-04-08 14:14:00</td>\n",
       "      <td>NaN</td>\n",
       "      <td>25.0</td>\n",
       "      <td>True</td>\n",
       "      <td>False</td>\n",
       "      <td>NaN</td>\n",
       "      <td>36</td>\n",
       "      <td>85.0</td>\n",
       "      <td>83.0</td>\n",
       "      <td>22</td>\n",
       "      <td>575</td>\n",
       "    </tr>\n",
       "    <tr>\n",
       "      <td>6051</td>\n",
       "      <td>35cd830272c911e99cacdca9049399ef</td>\n",
       "      <td>2015-10-09 19:22:00</td>\n",
       "      <td>NaN</td>\n",
       "      <td>49.0</td>\n",
       "      <td>True</td>\n",
       "      <td>False</td>\n",
       "      <td>28.0</td>\n",
       "      <td>20</td>\n",
       "      <td>87.0</td>\n",
       "      <td>73.0</td>\n",
       "      <td>5</td>\n",
       "      <td>1122</td>\n",
       "    </tr>\n",
       "  </tbody>\n",
       "</table>\n",
       "</div>"
      ],
      "text/plain": [
       "                               user_id duolingo_start_date  daily_goal  \\\n",
       "6043  35cbac4c72c911e9ae1edca9049399ef 2018-09-25 01:48:00         NaN   \n",
       "6010  35cbac4c72c911e9ae1edca9049399ef 2015-03-03 23:17:00        50.0   \n",
       "6029  35cbb95972c911e99387dca9049399ef 2018-05-15 16:57:00        30.0   \n",
       "5996  35cbb95972c911e99387dca9049399ef 2017-08-08 14:50:00         NaN   \n",
       "6034  35cd197572c911e9bc27dca9049399ef 2018-07-04 08:52:00        30.0   \n",
       "6001  35cd197572c911e9bc27dca9049399ef 2018-06-05 20:54:00         NaN   \n",
       "6036  35cd2cb572c911e9ae3cdca9049399ef 2014-12-13 05:23:00        30.0   \n",
       "6003  35cd2cb572c911e9ae3cdca9049399ef 2016-06-04 02:05:00         NaN   \n",
       "6017  35cd830272c911e99cacdca9049399ef 2017-04-08 14:14:00         NaN   \n",
       "6051  35cd830272c911e99cacdca9049399ef 2015-10-09 19:22:00         NaN   \n",
       "\n",
       "      highest_course_progress took_placement_test  purchased_subscription  \\\n",
       "6043                     16.0               False                   False   \n",
       "6010                     83.0                True                   False   \n",
       "6029                      7.0               False                   False   \n",
       "5996                     35.0                True                    True   \n",
       "6034                     29.0               False                   False   \n",
       "6001                     44.0                True                   False   \n",
       "6036                     25.0               False                   False   \n",
       "6003                     55.0                True                   False   \n",
       "6017                     25.0                True                   False   \n",
       "6051                     49.0                True                   False   \n",
       "\n",
       "      highest_crown_count  n_active_days  n_lessons_started  \\\n",
       "6043                150.0             36              623.0   \n",
       "6010                 90.0             17               69.0   \n",
       "6029                 12.0              5                1.0   \n",
       "5996                107.0             93              415.0   \n",
       "6034                 58.0             44              134.0   \n",
       "6001                 95.0             92              538.0   \n",
       "6036                 45.0              4                4.0   \n",
       "6003                 81.0             20              141.0   \n",
       "6017                  NaN             36               85.0   \n",
       "6051                 28.0             20               87.0   \n",
       "\n",
       "      n_lessons_completed  longest_streak  n_days_on_platform  \n",
       "6043                595.0              11                  40  \n",
       "6010                 67.0               3                1342  \n",
       "6029                  0.0               0                 173  \n",
       "5996                399.0             114                 453  \n",
       "6034                128.0               7                 123  \n",
       "6001                512.0             147                 152  \n",
       "6036                  1.0               0                1422  \n",
       "6003                150.0            6000                 883  \n",
       "6017                 83.0              22                 575  \n",
       "6051                 73.0               5                1122  "
      ]
     },
     "execution_count": 611,
     "metadata": {},
     "output_type": "execute_result"
    }
   ],
   "source": [
    "# It seems resasonable to discard user data with duplicate user_id's. \n",
    "# Take more recently occured observations as\n",
    "# this is ~1% of the total data?\n",
    "usage[usage.user_id.isin(repeated_users_usage.index.to_list())].sort_values(\"user_id\").head(10)"
   ]
  },
  {
   "cell_type": "code",
   "execution_count": 612,
   "metadata": {},
   "outputs": [
    {
     "data": {
      "text/plain": [
       "set()"
      ]
     },
     "execution_count": 612,
     "metadata": {},
     "output_type": "execute_result"
    }
   ],
   "source": [
    "r_survey= set(repeated_users.index.to_list())\n",
    "r_usage= set(repeated_users_usage.index.to_list())\n",
    "r_survey.intersection(r_usage)"
   ]
  },
  {
   "cell_type": "code",
   "execution_count": 613,
   "metadata": {},
   "outputs": [
    {
     "name": "stdout",
     "output_type": "stream",
     "text": [
      "<class 'pandas._libs.tslibs.timestamps.Timestamp'>\n"
     ]
    },
    {
     "data": {
      "text/plain": [
       "Timestamp('2018-06-20 21:14:00')"
      ]
     },
     "execution_count": 613,
     "metadata": {},
     "output_type": "execute_result"
    }
   ],
   "source": [
    "# Convert dates to datetime objects\n",
    "print(type(usage.duolingo_start_date[0]))\n",
    "usage.duolingo_start_date[0]"
   ]
  },
  {
   "cell_type": "code",
   "execution_count": 614,
   "metadata": {},
   "outputs": [
    {
     "data": {
      "text/plain": [
       "20.0    1046\n",
       "30.0     584\n",
       "50.0     523\n",
       "10.0     476\n",
       "1.0       55\n",
       "16.0       2\n",
       "32.0       1\n",
       "Name: daily_goal, dtype: int64"
      ]
     },
     "execution_count": 614,
     "metadata": {},
     "output_type": "execute_result"
    }
   ],
   "source": [
    "# There can be no goals.\n",
    "# Assign 3472 NaNs-> 0\n",
    "usage.daily_goal.value_counts()"
   ]
  },
  {
   "cell_type": "code",
   "execution_count": 615,
   "metadata": {},
   "outputs": [
    {
     "data": {
      "text/plain": [
       "count    6135.000000\n",
       "mean       27.314914\n",
       "std        20.179992\n",
       "min       -10.000000\n",
       "25%        10.000000\n",
       "50%        26.000000\n",
       "75%        38.000000\n",
       "max        83.000000\n",
       "Name: highest_course_progress, dtype: float64"
      ]
     },
     "execution_count": 615,
     "metadata": {},
     "output_type": "execute_result"
    }
   ],
   "source": [
    "# Negative progress? Set to 0\n",
    "# Measuring highest_course progress\n",
    "# 14 NaNs-> 0\n",
    "usage.highest_course_progress.describe()"
   ]
  },
  {
   "cell_type": "code",
   "execution_count": 616,
   "metadata": {},
   "outputs": [
    {
     "data": {
      "text/plain": [
       "6057   -8.0\n",
       "6058   -4.0\n",
       "6059   -3.0\n",
       "6060   -2.0\n",
       "6061   -7.0\n",
       "       ... \n",
       "6144   -5.0\n",
       "6145   -4.0\n",
       "6146   -5.0\n",
       "6147   -3.0\n",
       "6148   -6.0\n",
       "Name: highest_course_progress, Length: 92, dtype: float64"
      ]
     },
     "execution_count": 616,
     "metadata": {},
     "output_type": "execute_result"
    }
   ],
   "source": [
    "# 92 negative progress\n",
    "usage.highest_course_progress[usage.highest_course_progress < 0]"
   ]
  },
  {
   "cell_type": "code",
   "execution_count": 617,
   "metadata": {},
   "outputs": [
    {
     "data": {
      "text/plain": [
       "False    3527\n",
       "True     2608\n",
       "Name: took_placement_test, dtype: int64"
      ]
     },
     "execution_count": 617,
     "metadata": {},
     "output_type": "execute_result"
    }
   ],
   "source": [
    "# Placement Y/N: NaN-> Didn't take it /False\n",
    "usage.took_placement_test.value_counts()"
   ]
  },
  {
   "cell_type": "code",
   "execution_count": 618,
   "metadata": {},
   "outputs": [
    {
     "data": {
      "text/plain": [
       "False    4208\n",
       "True     1941\n",
       "Name: purchased_subscription, dtype: int64"
      ]
     },
     "execution_count": 618,
     "metadata": {},
     "output_type": "execute_result"
    }
   ],
   "source": [
    "# Clean!!\n",
    "usage.purchased_subscription.value_counts()"
   ]
  },
  {
   "cell_type": "code",
   "execution_count": 619,
   "metadata": {},
   "outputs": [
    {
     "data": {
      "text/plain": [
       "count    5857.000000\n",
       "mean      107.126515\n",
       "std        97.168490\n",
       "min         0.000000\n",
       "25%        30.000000\n",
       "50%        81.000000\n",
       "75%       160.000000\n",
       "max       617.000000\n",
       "Name: highest_crown_count, dtype: float64"
      ]
     },
     "execution_count": 619,
     "metadata": {},
     "output_type": "execute_result"
    }
   ],
   "source": [
    "# Crown count\n",
    "usage.highest_crown_count.describe()"
   ]
  },
  {
   "cell_type": "code",
   "execution_count": 620,
   "metadata": {},
   "outputs": [
    {
     "data": {
      "text/plain": [
       "28      0.0\n",
       "82      0.0\n",
       "245     0.0\n",
       "398     0.0\n",
       "473     0.0\n",
       "       ... \n",
       "5956    0.0\n",
       "5979    0.0\n",
       "6072    0.0\n",
       "6112    0.0\n",
       "6137    0.0\n",
       "Name: highest_crown_count, Length: 83, dtype: float64"
      ]
     },
     "execution_count": 620,
     "metadata": {},
     "output_type": "execute_result"
    }
   ],
   "source": [
    "# Crown count: There are quite many with 0 values already.\n",
    "# 292 NaNs-> 0\n",
    "usage.highest_crown_count[usage.highest_crown_count == 0]"
   ]
  },
  {
   "cell_type": "code",
   "execution_count": 621,
   "metadata": {},
   "outputs": [
    {
     "data": {
      "text/plain": [
       "count    6149.000000\n",
       "mean       49.150106\n",
       "std        39.212910\n",
       "min         1.000000\n",
       "25%        12.000000\n",
       "50%        44.000000\n",
       "75%        85.000000\n",
       "max       289.000000\n",
       "Name: n_active_days, dtype: float64"
      ]
     },
     "execution_count": 621,
     "metadata": {},
     "output_type": "execute_result"
    }
   ],
   "source": [
    "# How many days are in from Aug 1 2018 to Nov 5 2018? \n",
    "# Clean!!\n",
    "# If users do not showe up here, then they did not log into duolingo during this period. \n",
    "# Consider this when merging this usage df with survey df \n",
    "usage.n_active_days.describe()"
   ]
  },
  {
   "cell_type": "code",
   "execution_count": 622,
   "metadata": {},
   "outputs": [
    {
     "data": {
      "text/plain": [
       "count    5993.000000\n",
       "mean      233.634741\n",
       "std       284.536445\n",
       "min         0.000000\n",
       "25%        49.000000\n",
       "50%       153.000000\n",
       "75%       311.000000\n",
       "max      4686.000000\n",
       "Name: n_lessons_completed, dtype: float64"
      ]
     },
     "execution_count": 622,
     "metadata": {},
     "output_type": "execute_result"
    }
   ],
   "source": [
    "# NaN->0\n",
    "usage.n_lessons_completed.describe()"
   ]
  },
  {
   "cell_type": "code",
   "execution_count": 623,
   "metadata": {},
   "outputs": [
    {
     "data": {
      "text/plain": [
       "count    5993.000000\n",
       "mean      249.929918\n",
       "std       300.918632\n",
       "min         1.000000\n",
       "25%        55.000000\n",
       "50%       166.000000\n",
       "75%       332.000000\n",
       "max      4786.000000\n",
       "Name: n_lessons_started, dtype: float64"
      ]
     },
     "execution_count": 623,
     "metadata": {},
     "output_type": "execute_result"
    }
   ],
   "source": [
    "# NaN->0\n",
    "usage.n_lessons_started.describe()"
   ]
  },
  {
   "cell_type": "code",
   "execution_count": 624,
   "metadata": {},
   "outputs": [
    {
     "data": {
      "text/plain": [
       "count    6149.000000\n",
       "mean      154.855586\n",
       "std       617.272874\n",
       "min         0.000000\n",
       "25%         3.000000\n",
       "50%        17.000000\n",
       "75%        88.000000\n",
       "max      6000.000000\n",
       "Name: longest_streak, dtype: float64"
      ]
     },
     "execution_count": 624,
     "metadata": {},
     "output_type": "execute_result"
    }
   ],
   "source": [
    "# Clean!!\n",
    "usage.longest_streak.describe()"
   ]
  },
  {
   "cell_type": "code",
   "execution_count": 625,
   "metadata": {},
   "outputs": [
    {
     "data": {
      "text/plain": [
       "count    6149.000000\n",
       "mean      615.571963\n",
       "std       594.823322\n",
       "min         2.000000\n",
       "25%        99.000000\n",
       "50%       417.000000\n",
       "75%      1002.000000\n",
       "max      2402.000000\n",
       "Name: n_days_on_platform, dtype: float64"
      ]
     },
     "execution_count": 625,
     "metadata": {},
     "output_type": "execute_result"
    }
   ],
   "source": [
    "# Clean!!\n",
    "usage.n_days_on_platform.describe()"
   ]
  },
  {
   "cell_type": "markdown",
   "metadata": {},
   "source": [
    "# 3. Clean the dataframes"
   ]
  },
  {
   "cell_type": "code",
   "execution_count": 626,
   "metadata": {},
   "outputs": [],
   "source": [
    "# Simplify the age groups--Teens, Young adults, Middle aged, Older adults, Seniors.\n",
    "age_to_category = {\"Under 18\":\"T\", \"18-34\":\"Y\", \"35 - 54\": \"M\", \n",
    "                   \"55 - 74\": \"O\", \"75 or older\": \"S\", np.nan: \"M\"}\n",
    "survey.age = survey.age.replace(age_to_category) # prefer replace over map"
   ]
  },
  {
   "cell_type": "code",
   "execution_count": 627,
   "metadata": {},
   "outputs": [],
   "source": [
    "# Simplify the income groups. \n",
    "income_to_category ={\"$0 - $10,000\":0, \"$11,000 - $25,000\":1, \"$26,000 - $75,000\":2, \n",
    "                     \"$76,000 - $150,000\":3, \"$151,000 or more\":4, np.nan:2}\n",
    "survey.annual_income = survey.annual_income.replace(income_to_category)"
   ]
  },
  {
   "cell_type": "code",
   "execution_count": 628,
   "metadata": {},
   "outputs": [],
   "source": [
    "# Simplify the platform names: Android, iOS, Web.\n",
    "plat_to_category ={\"Android phone or tablet\":\"A\", \"iPhone or iPad\":\"I\", \"Web browser\":\"W\"}\n",
    "survey.duolingo_platform = survey.duolingo_platform.replace(plat_to_category)\n",
    "\n",
    "# For 276 null values:\n",
    "np.random.seed(0)\n",
    "elements=[\"A\", \"I\", \"W\"]\n",
    "probabilities=[2594/(2594+2496+821), 2496/(2594+2496+821), 821/(2594+2496+821)]\n",
    "random_plat=np.random.choice(elements, 276, p=probabilities)"
   ]
  },
  {
   "cell_type": "code",
   "execution_count": 629,
   "metadata": {},
   "outputs": [
    {
     "data": {
      "text/plain": [
       "A    2594\n",
       "I    2496\n",
       "W     821\n",
       "Name: duolingo_platform, dtype: int64"
      ]
     },
     "execution_count": 629,
     "metadata": {},
     "output_type": "execute_result"
    }
   ],
   "source": [
    "# Pre-cleaning distribution\n",
    "survey.duolingo_platform.value_counts()"
   ]
  },
  {
   "cell_type": "code",
   "execution_count": 630,
   "metadata": {},
   "outputs": [
    {
     "data": {
      "text/plain": [
       "A    2716\n",
       "I    2610\n",
       "W     861\n",
       "Name: duolingo_platform, dtype: int64"
      ]
     },
     "execution_count": 630,
     "metadata": {},
     "output_type": "execute_result"
    }
   ],
   "source": [
    "# Post-cleaning distribution\n",
    "survey.iloc[survey[survey.duolingo_platform.isnull()].index.tolist(), 4] = random_plat\n",
    "survey.duolingo_platform.value_counts()"
   ]
  },
  {
   "cell_type": "code",
   "execution_count": 631,
   "metadata": {},
   "outputs": [],
   "source": [
    "# Simplify the subscriber groups. \n",
    "sub_to_category ={\"No, I have never paid for Duolingo Plus\":\"NVR\", \n",
    "                  \"Yes, I currently pay for Duolingo Plus\":\"YES\", \n",
    "                  \"No, but I have previously paid for Duolingo Plus\":\"PST\", \n",
    "                  \"I don't know if I pay for Duolingo Plus\":\"IDK\",\n",
    "                  np.nan: \"IDK\"}\n",
    "survey.duolingo_subscriber = survey.duolingo_subscriber.replace(sub_to_category)"
   ]
  },
  {
   "cell_type": "code",
   "execution_count": 632,
   "metadata": {},
   "outputs": [],
   "source": [
    "# Simplify the usage-frequency groups. \n",
    "usage_to_category ={\"Daily\":\"D\", \n",
    "                  \"Weekly\":\"W\", \n",
    "                  \"Monthly\":\"M\", \n",
    "                  \"Less than once a month\":\"S\", # Seldom\n",
    "                  \"I don't use Duolingo\":\"S\", np.nan:\"S\"}\n",
    "survey.duolingo_usage = survey.duolingo_usage.map(usage_to_category)"
   ]
  },
  {
   "cell_type": "code",
   "execution_count": 633,
   "metadata": {},
   "outputs": [
    {
     "name": "stdout",
     "output_type": "stream",
     "text": [
      "Unemployed            239\n",
      "Employed part-time     27\n",
      "Employed full-time     17\n",
      "Retired                 2\n",
      "Name: employment_status, dtype: int64\n",
      "44\n"
     ]
    }
   ],
   "source": [
    "# Some teens are retired..? For 44 teens with null employ\n",
    "print(survey[survey.age==\"T\"].employment_status.value_counts())\n",
    "print(len(survey[(survey.age==\"T\") & (survey.employment_status.isnull())]))\n"
   ]
  },
  {
   "cell_type": "code",
   "execution_count": 634,
   "metadata": {},
   "outputs": [],
   "source": [
    "# Simplify the employment groups. \n",
    "emp_to_category ={\"Employed full-time\":\"F\", \n",
    "                  \"Employed part-time\":\"P\", \n",
    "                  \"Retired\":\"R\", \n",
    "                  \"Unemployed\":\"U\", np.nan:\"U\"}\n",
    "survey.employment_status= survey.employment_status.replace(emp_to_category)"
   ]
  },
  {
   "cell_type": "code",
   "execution_count": 635,
   "metadata": {},
   "outputs": [],
   "source": [
    "# Can't groupby with null values\n",
    "# survey.groupby(['employment_status','age']).count().unstack(fill_value=0)"
   ]
  },
  {
   "cell_type": "code",
   "execution_count": 636,
   "metadata": {},
   "outputs": [],
   "source": [
    "# Future contact groups. \n",
    "fut_to_category ={np.nan:\"No\"}\n",
    "survey.future_contact= survey.future_contact.replace(fut_to_category)"
   ]
  },
  {
   "cell_type": "code",
   "execution_count": 637,
   "metadata": {},
   "outputs": [],
   "source": [
    "# Simplify the employment groups. \n",
    "gen_to_category={\"Prefer not to say\":\"Other\", \n",
    "                  np.nan:\"Other\"}\n",
    "survey.gender=survey.gender.replace(gen_to_category)"
   ]
  },
  {
   "cell_type": "code",
   "execution_count": 638,
   "metadata": {},
   "outputs": [],
   "source": [
    "commit_to_category={\"I'm extremely committed to learning this language.\":4,\n",
    "                    \"I'm very committed to learning this language.\":3,\n",
    "                    \"I'm moderately committed to learning this language.\":2,\n",
    "                    \"I'm slightly committed to learning this language.\":1,\n",
    "                    \"I'm not at all committed to learning this language.\":0,\n",
    "                    np.nan:0}\n",
    "survey.primary_language_commitment=survey.primary_language_commitment.replace(commit_to_category)"
   ]
  },
  {
   "cell_type": "code",
   "execution_count": 639,
   "metadata": {},
   "outputs": [],
   "source": [
    "review_to_category={\"I am using Duolingo to learn this language for the first time.\":\"First\",\n",
    "                   \"I am using Duolingo to review a language I've studied before.\":\"Review\",\n",
    "                   np.nan:\"First\"}\n",
    "survey.primary_language_review=survey.primary_language_review.replace(review_to_category)"
   ]
  },
  {
   "cell_type": "code",
   "execution_count": 640,
   "metadata": {},
   "outputs": [
    {
     "name": "stdout",
     "output_type": "stream",
     "text": [
      "['I need to be able to speak the local language where I live', 'I want to use my time more productively', 'I am preparing for a trip', 'I want to keep my brain healthy', 'I want to connect with my heritage or identity', 'I want to improve relationships with some of the people in my life', 'I like to learn new languages', 'I want my family to learn a language together', 'I am interested in a culture that speaks this language', 'I want to advance professionally or economically', 'I want to challenge myself', 'I need to learn this language for school', \"I don't want to forget what I've previously learned\"]\n"
     ]
    }
   ],
   "source": [
    "# 12 different reasons + Null values get mapped to numeric values\n",
    "# Used a different approach as \n",
    "motiv_to_category=survey.primary_language_motivation.value_counts().index.to_list()\n",
    "print(motiv_to_category) "
   ]
  },
  {
   "cell_type": "code",
   "execution_count": 641,
   "metadata": {},
   "outputs": [],
   "source": [
    "survey.primary_language_motivation=survey.primary_language_motivation.astype(\n",
    "    CategoricalDtype(categories=motiv_to_category)).cat.codes"
   ]
  },
  {
   "cell_type": "code",
   "execution_count": 642,
   "metadata": {},
   "outputs": [
    {
     "data": {
      "text/plain": [
       "Beginner        3210\n",
       "Intermediate    2460\n",
       "Advanced         357\n",
       "Name: primary_language_proficiency, dtype: int64"
      ]
     },
     "execution_count": 642,
     "metadata": {},
     "output_type": "execute_result"
    }
   ],
   "source": [
    "prof_elements=[\"Beginner\", \"Intermediate\", \"Advanced\"]\n",
    "prof_probabilities=[3210/(3210+2460+357), 2460/(3210+2460+357), 357/(3210+2460+357)]\n",
    "random_prof=np.random.choice(prof_elements, 160, p=prof_probabilities)\n",
    "\n",
    "# Pre-cleaning distribution\n",
    "survey.primary_language_proficiency.value_counts()"
   ]
  },
  {
   "cell_type": "code",
   "execution_count": 643,
   "metadata": {},
   "outputs": [
    {
     "data": {
      "text/plain": [
       "Beginner        3303\n",
       "Intermediate    2514\n",
       "Advanced         370\n",
       "Name: primary_language_proficiency, dtype: int64"
      ]
     },
     "execution_count": 643,
     "metadata": {},
     "output_type": "execute_result"
    }
   ],
   "source": [
    "# Post-cleaning distribution\n",
    "survey.iloc[survey[survey.primary_language_proficiency.isnull()].index.tolist(), 15] = random_prof\n",
    "survey.primary_language_proficiency.value_counts()"
   ]
  },
  {
   "cell_type": "code",
   "execution_count": 644,
   "metadata": {},
   "outputs": [],
   "source": [
    "stud_to_category={\"Not currently a student\":\"No\",\n",
    "                  \"Full-time student\":\"Full\",\n",
    "                  \"Part-time student\":\"Part\", np.nan:\"No\"}\n",
    "survey.student=survey.student.replace(stud_to_category)"
   ]
  },
  {
   "cell_type": "code",
   "execution_count": 645,
   "metadata": {},
   "outputs": [],
   "source": [
    "# Cap the time spent to 0 to 3600 (1 hour)\n",
    "survey.iloc[survey[survey.time_spent_seconds<0].index.tolist(), -1]=0\n",
    "survey.iloc[survey[survey.time_spent_seconds>3600].index.tolist(), -1]=3600"
   ]
  },
  {
   "cell_type": "code",
   "execution_count": 646,
   "metadata": {},
   "outputs": [
    {
     "data": {
      "text/plain": [
       "count    6187.000000\n",
       "mean      489.349766\n",
       "std       629.354142\n",
       "min         0.000000\n",
       "25%       234.000000\n",
       "50%       325.000000\n",
       "75%       470.000000\n",
       "max      3600.000000\n",
       "Name: time_spent_seconds, dtype: float64"
      ]
     },
     "execution_count": 646,
     "metadata": {},
     "output_type": "execute_result"
    }
   ],
   "source": [
    "survey.time_spent_seconds.describe()"
   ]
  },
  {
   "cell_type": "code",
   "execution_count": 647,
   "metadata": {},
   "outputs": [
    {
     "data": {
      "image/png": "[encoded data removed]",
      "text/plain": [
       "<Figure size 576x288 with 2 Axes>"
      ]
     },
     "metadata": {},
     "output_type": "display_data"
    }
   ],
   "source": [
    "plt.subplots(figsize=(8,4))\n",
    "plt.subplot(1,2,1)\n",
    "plt.plot(np.sort(survey.time_spent_seconds))\n",
    "plt.ylabel(\"time_spent_seconds\")\n",
    "plt.subplot(1,2,2)\n",
    "sns.boxplot(survey.time_spent_seconds, orient=\"v\")\n",
    "plt.tight_layout()\n",
    "\n",
    "# Still some outliers, but some may take long to fill out the survey. \n",
    "# I don't want to exclude too many slow typing users. "
   ]
  },
  {
   "cell_type": "code",
   "execution_count": 648,
   "metadata": {},
   "outputs": [
    {
     "name": "stdout",
     "output_type": "stream",
     "text": [
      "<class 'pandas.core.frame.DataFrame'>\n",
      "RangeIndex: 6187 entries, 0 to 6186\n",
      "Data columns (total 19 columns):\n",
      "user_id                                 6187 non-null object\n",
      "age                                     6187 non-null object\n",
      "annual_income                           6187 non-null int64\n",
      "country                                 6187 non-null object\n",
      "duolingo_platform                       6187 non-null object\n",
      "duolingo_subscriber                     6187 non-null object\n",
      "duolingo_usage                          6187 non-null object\n",
      "employment_status                       6187 non-null object\n",
      "future_contact                          6187 non-null object\n",
      "gender                                  6187 non-null object\n",
      "other_resources                         4474 non-null object\n",
      "primary_language_commitment             6187 non-null int64\n",
      "primary_language_review                 6187 non-null object\n",
      "primary_language_motivation             6187 non-null int8\n",
      "primary_language_motivation_followup    3715 non-null object\n",
      "primary_language_proficiency            6187 non-null object\n",
      "student                                 6187 non-null object\n",
      "survey_complete                         6187 non-null int64\n",
      "time_spent_seconds                      6187 non-null int64\n",
      "dtypes: int64(4), int8(1), object(14)\n",
      "memory usage: 876.2+ KB\n"
     ]
    }
   ],
   "source": [
    "survey.info()"
   ]
  },
  {
   "cell_type": "code",
   "execution_count": 649,
   "metadata": {},
   "outputs": [
    {
     "name": "stdout",
     "output_type": "stream",
     "text": [
      "Stories/novels/children's books,Movies/TV Shows\n",
      "It's been a lifelong goal to learn this language,I want to learn as many languages as I can\n"
     ]
    }
   ],
   "source": [
    "# Clean up other resources\n",
    "print(survey.other_resources[0])\n",
    "print(survey.primary_language_motivation_followup[6183])"
   ]
  },
  {
   "cell_type": "code",
   "execution_count": 650,
   "metadata": {},
   "outputs": [
    {
     "name": "stdout",
     "output_type": "stream",
     "text": [
      "Original sample sentence: It's been a lifelong goal to learn this language,I want to learn as many languages as I can\n",
      "In lower case letters: it's been a lifelong goal to learn this language,i want to learn as many languages as i can\n",
      "Handle missing spaces: it's been a lifelong goal to learn this language. i want to learn as many languages as i can\n",
      "Stop words are removed: lifelong goal learn language. want learn many languages\n",
      "All punctuation marks removed: lifelong goal learn language  want learn many languages\n",
      "Extra white spaces removed: lifelong goal learn language want learn many languages\n",
      "Lemmatized and Tokenized:  ['lifelong', 'goal', 'learn', 'language', 'want', 'learn', 'many', 'language'] \n",
      "\n",
      "Original sample sentence: Stories/novels/children's books,Movies/TV Shows\n",
      "In lower case letters: stories/novels/children's books,movies/tv shows\n",
      "Handle missing spaces: stories/novels/children's books. movies/tv shows\n",
      "Stop words are removed: stories/novels/children's books. movies/tv shows\n",
      "All punctuation marks removed: stories novels children s books  movies tv shows\n",
      "Extra white spaces removed: stories novels children s books movies tv shows\n",
      "Lemmatized and Tokenized:  ['story', 'novel', 'child', 's', 'book', 'movie', 'tv', 'show']\n"
     ]
    }
   ],
   "source": [
    "import re\n",
    "import nltk\n",
    "from nltk import word_tokenize, pos_tag\n",
    "from nltk.stem import WordNetLemmatizer, PorterStemmer\n",
    "from nltk.tokenize import sent_tokenize\n",
    "from nltk.corpus import wordnet, stopwords\n",
    "\n",
    "\n",
    "survey.primary_language_motivation_followup= survey.primary_language_motivation_followup.replace({np.nan:\"\"})\n",
    "print(\"Original sample sentence: \"+ survey.primary_language_motivation_followup[6183])\n",
    "\n",
    "# lower case handling\n",
    "survey[\"clean_motivation\"]=survey.primary_language_motivation_followup.str.lower()\n",
    "print(\"In lower case letters: \"+ survey.clean_motivation[6183])\n",
    "\n",
    "# handle no space\n",
    "punct3 = r\"[.,;!?](?! )\"\n",
    "survey[\"clean_motivation\"]=survey[\"clean_motivation\"].str.replace(pat=punct3, repl=\". \", regex=True)\n",
    "print(\"Handle missing spaces: \"+survey.clean_motivation[6183])\n",
    "\n",
    "# stop words removing\n",
    "stop_words = stopwords.words(\"english\")\n",
    "\n",
    "remove_stop_words=lambda row: \" \".join([word for word in row.split(\" \") if word not in stop_words_updated])\n",
    "survey[\"clean_motivation\"]=survey[\"clean_motivation\"].apply(remove_stop_words)\n",
    "print(\"Stop words are removed: \"+ survey.clean_motivation[6183])\n",
    "\n",
    "# remove all punctuation\n",
    "punct = r\"[^\\w\\s]\"\n",
    "survey[\"clean_motivation\"]=survey[\"clean_motivation\"].str.replace(pat=punct, repl=\" \", regex=True)\n",
    "print(\"All punctuation marks removed: \"+ survey.clean_motivation[6183])\n",
    "\n",
    "# handle extra space\n",
    "punct = r\"\\s+\"\n",
    "survey[\"clean_motivation\"]=survey[\"clean_motivation\"].str.replace(pat=punct, repl=\" \", regex=True)\n",
    "print(\"Extra white spaces removed: \"+survey.clean_motivation[6183])\n",
    "\n",
    "\n",
    "# stemized\n",
    "#stemmer=LancasterStemmer()\n",
    "#survey[\"clean_motivation\"]=survey[\"clean_motivation\"].apply(stemmer.stem)\n",
    "#print(\"Stemmized: \", survey.clean_motivation[6183])\n",
    "\n",
    "# tokenized and lemmatized\n",
    "lemma = WordNetLemmatizer()\n",
    "\n",
    "def lemmatize_word(tagged_token):\n",
    "    \"\"\" Returns lemmatized word given its tag\"\"\"\n",
    "    root = []\n",
    "    for token in tagged_token:\n",
    "        tag = token[1][0]\n",
    "        word = token[0]\n",
    "        if tag.startswith('J'):\n",
    "            root.append(lemma.lemmatize(word, wordnet.ADJ))\n",
    "        elif tag.startswith('V'):\n",
    "            root.append(lemma.lemmatize(word, wordnet.VERB))\n",
    "        elif tag.startswith('N'):\n",
    "            root.append(lemma.lemmatize(word, wordnet.NOUN))\n",
    "        elif tag.startswith('R'):\n",
    "            root.append(lemma.lemmatize(word, wordnet.ADV))\n",
    "        else:          \n",
    "            root.append(word)\n",
    "    return root\n",
    "\n",
    "def lemmatize_doc(row):\n",
    "    word_list = nltk.word_tokenize(row)\n",
    "    tagged_token = pos_tag(word_list)#tokenized_word)\n",
    "    lemmatized = lemmatize_word(tagged_token)\n",
    "    return lemmatized\n",
    "\n",
    "survey[\"clean_motivation_token\"]=survey[\"clean_motivation\"].apply(lemmatize_doc)\n",
    "\n",
    "print(\"Lemmatized and Tokenized: \", survey.clean_motivation_token[6183], \"\\n\")\n",
    "\n",
    "\n",
    "\n",
    "\n",
    "### SAMPLE SENTENCE #2\n",
    "\n",
    "survey.other_resources= survey.other_resources.replace({np.nan:\"\"})\n",
    "print(\"Original sample sentence: \"+ survey.other_resources[0])\n",
    "\n",
    "# lower case handling\n",
    "survey[\"clean_resources\"]=survey.other_resources.str.lower()\n",
    "print(\"In lower case letters: \"+ survey.clean_resources[0])\n",
    "\n",
    "# handle no space\n",
    "punct3 = r\"[.,;!?](?! )\"\n",
    "survey[\"clean_resources\"]=survey[\"clean_resources\"].str.replace(pat=punct3, repl=\". \", regex=True)\n",
    "print(\"Handle missing spaces: \"+survey.clean_resources[0])\n",
    "\n",
    "# stop words removing\n",
    "remove_stop_wordslambda= lambda row: \" \".join([word for word in row.split(\" \") if word not in stop_words])\n",
    "survey[\"clean_resources\"]=survey[\"clean_resources\"].apply(remove_stop_words)\n",
    "print(\"Stop words are removed: \"+ survey.clean_resources[0])\n",
    "\n",
    "# remove all punctuation\n",
    "punct = r\"[^\\w\\s]\"\n",
    "survey[\"clean_resources\"]=survey[\"clean_resources\"].str.replace(pat=punct, repl=\" \", regex=True)\n",
    "print(\"All punctuation marks removed: \"+ survey.clean_resources[0])\n",
    "\n",
    "# handle extra space\n",
    "punct = r\"\\s+\"\n",
    "survey[\"clean_resources\"]=survey[\"clean_resources\"].str.replace(pat=punct, repl=\" \", regex=True)\n",
    "print(\"Extra white spaces removed: \"+survey.clean_resources[0])\n",
    "\n",
    "# Stemmized\n",
    "#survey[\"clean_resources\"]=survey[\"clean_resources\"].apply(stemmer.stem)\n",
    "# print(\"Stemmized: \", survey.clean_resources[0])\n",
    "\n",
    "# tokenized and lemmatized\n",
    "survey[\"clean_resources_token\"]=survey[\"clean_resources\"].apply(lemmatize_doc)\n",
    "print(\"Lemmatized and Tokenized: \", survey.clean_resources_token[0])"
   ]
  },
  {
   "cell_type": "code",
   "execution_count": 651,
   "metadata": {},
   "outputs": [
    {
     "data": {
      "text/html": [
       "<div>\n",
       "<style scoped>\n",
       "    .dataframe tbody tr th:only-of-type {\n",
       "        vertical-align: middle;\n",
       "    }\n",
       "\n",
       "    .dataframe tbody tr th {\n",
       "        vertical-align: top;\n",
       "    }\n",
       "\n",
       "    .dataframe thead th {\n",
       "        text-align: right;\n",
       "    }\n",
       "</style>\n",
       "<table border=\"1\" class=\"dataframe\">\n",
       "  <thead>\n",
       "    <tr style=\"text-align: right;\">\n",
       "      <th></th>\n",
       "      <th>user_id</th>\n",
       "      <th>age</th>\n",
       "      <th>annual_income</th>\n",
       "      <th>country</th>\n",
       "      <th>duolingo_platform</th>\n",
       "      <th>duolingo_subscriber</th>\n",
       "      <th>duolingo_usage</th>\n",
       "      <th>employment_status</th>\n",
       "      <th>future_contact</th>\n",
       "      <th>gender</th>\n",
       "      <th>...</th>\n",
       "      <th>primary_language_motivation</th>\n",
       "      <th>primary_language_motivation_followup</th>\n",
       "      <th>primary_language_proficiency</th>\n",
       "      <th>student</th>\n",
       "      <th>survey_complete</th>\n",
       "      <th>time_spent_seconds</th>\n",
       "      <th>clean_motivation</th>\n",
       "      <th>clean_motivation_token</th>\n",
       "      <th>clean_resources</th>\n",
       "      <th>clean_resources_token</th>\n",
       "    </tr>\n",
       "  </thead>\n",
       "  <tbody>\n",
       "    <tr>\n",
       "      <td>0</td>\n",
       "      <td>35c9fc6e72c911e99681dca9049399ef</td>\n",
       "      <td>Y</td>\n",
       "      <td>2</td>\n",
       "      <td>JP</td>\n",
       "      <td>A</td>\n",
       "      <td>NVR</td>\n",
       "      <td>D</td>\n",
       "      <td>F</td>\n",
       "      <td>Yes</td>\n",
       "      <td>Male</td>\n",
       "      <td>...</td>\n",
       "      <td>6</td>\n",
       "      <td>I want to learn as many languages as I can,Oth...</td>\n",
       "      <td>Advanced</td>\n",
       "      <td>No</td>\n",
       "      <td>1</td>\n",
       "      <td>193</td>\n",
       "      <td>want learn many languages can please specify</td>\n",
       "      <td>[want, learn, many, language, can, please, spe...</td>\n",
       "      <td>stories novels children s books movies tv shows</td>\n",
       "      <td>[story, novel, child, s, book, movie, tv, show]</td>\n",
       "    </tr>\n",
       "    <tr>\n",
       "      <td>1</td>\n",
       "      <td>35c9fdde72c911e98630dca9049399ef</td>\n",
       "      <td>Y</td>\n",
       "      <td>2</td>\n",
       "      <td>JP</td>\n",
       "      <td>I</td>\n",
       "      <td>NVR</td>\n",
       "      <td>W</td>\n",
       "      <td>F</td>\n",
       "      <td>Yes</td>\n",
       "      <td>Male</td>\n",
       "      <td>...</td>\n",
       "      <td>0</td>\n",
       "      <td>I am an immigrant,I am a refugee</td>\n",
       "      <td>Intermediate</td>\n",
       "      <td>No</td>\n",
       "      <td>1</td>\n",
       "      <td>139</td>\n",
       "      <td>immigrant refugee</td>\n",
       "      <td>[immigrant, refugee]</td>\n",
       "      <td></td>\n",
       "      <td>[]</td>\n",
       "    </tr>\n",
       "    <tr>\n",
       "      <td>2</td>\n",
       "      <td>35c9feb072c911e9ab4cdca9049399ef</td>\n",
       "      <td>Y</td>\n",
       "      <td>3</td>\n",
       "      <td>JP</td>\n",
       "      <td>I</td>\n",
       "      <td>YES</td>\n",
       "      <td>D</td>\n",
       "      <td>F</td>\n",
       "      <td>Yes</td>\n",
       "      <td>Male</td>\n",
       "      <td>...</td>\n",
       "      <td>4</td>\n",
       "      <td></td>\n",
       "      <td>Beginner</td>\n",
       "      <td>No</td>\n",
       "      <td>1</td>\n",
       "      <td>119</td>\n",
       "      <td></td>\n",
       "      <td>[]</td>\n",
       "      <td></td>\n",
       "      <td>[]</td>\n",
       "    </tr>\n",
       "  </tbody>\n",
       "</table>\n",
       "<p>3 rows × 23 columns</p>\n",
       "</div>"
      ],
      "text/plain": [
       "                            user_id age  annual_income country  \\\n",
       "0  35c9fc6e72c911e99681dca9049399ef   Y              2      JP   \n",
       "1  35c9fdde72c911e98630dca9049399ef   Y              2      JP   \n",
       "2  35c9feb072c911e9ab4cdca9049399ef   Y              3      JP   \n",
       "\n",
       "  duolingo_platform duolingo_subscriber duolingo_usage employment_status  \\\n",
       "0                 A                 NVR              D                 F   \n",
       "1                 I                 NVR              W                 F   \n",
       "2                 I                 YES              D                 F   \n",
       "\n",
       "  future_contact gender  ... primary_language_motivation  \\\n",
       "0            Yes   Male  ...                           6   \n",
       "1            Yes   Male  ...                           0   \n",
       "2            Yes   Male  ...                           4   \n",
       "\n",
       "                primary_language_motivation_followup  \\\n",
       "0  I want to learn as many languages as I can,Oth...   \n",
       "1                   I am an immigrant,I am a refugee   \n",
       "2                                                      \n",
       "\n",
       "  primary_language_proficiency  student survey_complete time_spent_seconds  \\\n",
       "0                     Advanced       No               1                193   \n",
       "1                 Intermediate       No               1                139   \n",
       "2                     Beginner       No               1                119   \n",
       "\n",
       "                                clean_motivation  \\\n",
       "0  want learn many languages can please specify    \n",
       "1                              immigrant refugee   \n",
       "2                                                  \n",
       "\n",
       "                              clean_motivation_token  \\\n",
       "0  [want, learn, many, language, can, please, spe...   \n",
       "1                               [immigrant, refugee]   \n",
       "2                                                 []   \n",
       "\n",
       "                                   clean_resources  \\\n",
       "0  stories novels children s books movies tv shows   \n",
       "1                                                    \n",
       "2                                                    \n",
       "\n",
       "                             clean_resources_token  \n",
       "0  [story, novel, child, s, book, movie, tv, show]  \n",
       "1                                               []  \n",
       "2                                               []  \n",
       "\n",
       "[3 rows x 23 columns]"
      ]
     },
     "execution_count": 651,
     "metadata": {},
     "output_type": "execute_result"
    }
   ],
   "source": [
    "survey.head(3)"
   ]
  },
  {
   "cell_type": "code",
   "execution_count": 652,
   "metadata": {},
   "outputs": [],
   "source": [
    "survey.drop([\"clean_motivation\", \"clean_resources\", \n",
    "             \"primary_language_motivation_followup\", \"other_resources\"], inplace=True, axis=1)\n",
    "survey.columns = [\"id\", \"age\", \"income\", \"country\", \"platform\", \"subscriber\", \"usage\", \"employment\", \"contact\",\n",
    "                 \"gender\", \"commitment\", \"review\", \"motivation\", \"level\", \"student\", \"survey_comp\", \"survey_time\",\n",
    "                 \"motivation_followup\", \"resources\"]"
   ]
  },
  {
   "cell_type": "code",
   "execution_count": 653,
   "metadata": {},
   "outputs": [
    {
     "data": {
      "text/html": [
       "<div>\n",
       "<style scoped>\n",
       "    .dataframe tbody tr th:only-of-type {\n",
       "        vertical-align: middle;\n",
       "    }\n",
       "\n",
       "    .dataframe tbody tr th {\n",
       "        vertical-align: top;\n",
       "    }\n",
       "\n",
       "    .dataframe thead th {\n",
       "        text-align: right;\n",
       "    }\n",
       "</style>\n",
       "<table border=\"1\" class=\"dataframe\">\n",
       "  <thead>\n",
       "    <tr style=\"text-align: right;\">\n",
       "      <th></th>\n",
       "      <th>id</th>\n",
       "      <th>age</th>\n",
       "      <th>income</th>\n",
       "      <th>country</th>\n",
       "      <th>platform</th>\n",
       "      <th>subscriber</th>\n",
       "      <th>usage</th>\n",
       "      <th>employment</th>\n",
       "      <th>contact</th>\n",
       "      <th>gender</th>\n",
       "      <th>commitment</th>\n",
       "      <th>review</th>\n",
       "      <th>motivation</th>\n",
       "      <th>level</th>\n",
       "      <th>student</th>\n",
       "      <th>survey_comp</th>\n",
       "      <th>survey_time</th>\n",
       "      <th>motivation_followup</th>\n",
       "      <th>resources</th>\n",
       "    </tr>\n",
       "  </thead>\n",
       "  <tbody>\n",
       "    <tr>\n",
       "      <td>0</td>\n",
       "      <td>35c9fc6e72c911e99681dca9049399ef</td>\n",
       "      <td>Y</td>\n",
       "      <td>2</td>\n",
       "      <td>JP</td>\n",
       "      <td>A</td>\n",
       "      <td>NVR</td>\n",
       "      <td>D</td>\n",
       "      <td>F</td>\n",
       "      <td>Yes</td>\n",
       "      <td>Male</td>\n",
       "      <td>3</td>\n",
       "      <td>Review</td>\n",
       "      <td>6</td>\n",
       "      <td>Advanced</td>\n",
       "      <td>No</td>\n",
       "      <td>1</td>\n",
       "      <td>193</td>\n",
       "      <td>[want, learn, many, language, can, please, spe...</td>\n",
       "      <td>[story, novel, child, s, book, movie, tv, show]</td>\n",
       "    </tr>\n",
       "    <tr>\n",
       "      <td>1</td>\n",
       "      <td>35c9fdde72c911e98630dca9049399ef</td>\n",
       "      <td>Y</td>\n",
       "      <td>2</td>\n",
       "      <td>JP</td>\n",
       "      <td>I</td>\n",
       "      <td>NVR</td>\n",
       "      <td>W</td>\n",
       "      <td>F</td>\n",
       "      <td>Yes</td>\n",
       "      <td>Male</td>\n",
       "      <td>1</td>\n",
       "      <td>Review</td>\n",
       "      <td>0</td>\n",
       "      <td>Intermediate</td>\n",
       "      <td>No</td>\n",
       "      <td>1</td>\n",
       "      <td>139</td>\n",
       "      <td>[immigrant, refugee]</td>\n",
       "      <td>[]</td>\n",
       "    </tr>\n",
       "    <tr>\n",
       "      <td>2</td>\n",
       "      <td>35c9feb072c911e9ab4cdca9049399ef</td>\n",
       "      <td>Y</td>\n",
       "      <td>3</td>\n",
       "      <td>JP</td>\n",
       "      <td>I</td>\n",
       "      <td>YES</td>\n",
       "      <td>D</td>\n",
       "      <td>F</td>\n",
       "      <td>Yes</td>\n",
       "      <td>Male</td>\n",
       "      <td>2</td>\n",
       "      <td>Review</td>\n",
       "      <td>4</td>\n",
       "      <td>Beginner</td>\n",
       "      <td>No</td>\n",
       "      <td>1</td>\n",
       "      <td>119</td>\n",
       "      <td>[]</td>\n",
       "      <td>[]</td>\n",
       "    </tr>\n",
       "  </tbody>\n",
       "</table>\n",
       "</div>"
      ],
      "text/plain": [
       "                                 id age  income country platform subscriber  \\\n",
       "0  35c9fc6e72c911e99681dca9049399ef   Y       2      JP        A        NVR   \n",
       "1  35c9fdde72c911e98630dca9049399ef   Y       2      JP        I        NVR   \n",
       "2  35c9feb072c911e9ab4cdca9049399ef   Y       3      JP        I        YES   \n",
       "\n",
       "  usage employment contact gender  commitment  review  motivation  \\\n",
       "0     D          F     Yes   Male           3  Review           6   \n",
       "1     W          F     Yes   Male           1  Review           0   \n",
       "2     D          F     Yes   Male           2  Review           4   \n",
       "\n",
       "          level student  survey_comp  survey_time  \\\n",
       "0      Advanced      No            1          193   \n",
       "1  Intermediate      No            1          139   \n",
       "2      Beginner      No            1          119   \n",
       "\n",
       "                                 motivation_followup  \\\n",
       "0  [want, learn, many, language, can, please, spe...   \n",
       "1                               [immigrant, refugee]   \n",
       "2                                                 []   \n",
       "\n",
       "                                         resources  \n",
       "0  [story, novel, child, s, book, movie, tv, show]  \n",
       "1                                               []  \n",
       "2                                               []  "
      ]
     },
     "execution_count": 653,
     "metadata": {},
     "output_type": "execute_result"
    }
   ],
   "source": [
    "survey.head(3)"
   ]
  },
  {
   "cell_type": "code",
   "execution_count": 654,
   "metadata": {},
   "outputs": [
    {
     "name": "stdout",
     "output_type": "stream",
     "text": [
      "<class 'pandas.core.frame.DataFrame'>\n",
      "RangeIndex: 6187 entries, 0 to 6186\n",
      "Data columns (total 19 columns):\n",
      "id                     6187 non-null object\n",
      "age                    6187 non-null object\n",
      "income                 6187 non-null int64\n",
      "country                6187 non-null object\n",
      "platform               6187 non-null object\n",
      "subscriber             6187 non-null object\n",
      "usage                  6187 non-null object\n",
      "employment             6187 non-null object\n",
      "contact                6187 non-null object\n",
      "gender                 6187 non-null object\n",
      "commitment             6187 non-null int64\n",
      "review                 6187 non-null object\n",
      "motivation             6187 non-null int8\n",
      "level                  6187 non-null object\n",
      "student                6187 non-null object\n",
      "survey_comp            6187 non-null int64\n",
      "survey_time            6187 non-null int64\n",
      "motivation_followup    6187 non-null object\n",
      "resources              6187 non-null object\n",
      "dtypes: int64(4), int8(1), object(14)\n",
      "memory usage: 876.2+ KB\n"
     ]
    }
   ],
   "source": [
    "survey.info()"
   ]
  },
  {
   "cell_type": "code",
   "execution_count": 655,
   "metadata": {},
   "outputs": [],
   "source": [
    "# This still has 37 users who completed the survey twice. \n",
    "survey.to_csv(\"../Data_processed/survey_clean.csv\")"
   ]
  },
  {
   "cell_type": "code",
   "execution_count": 656,
   "metadata": {},
   "outputs": [
    {
     "data": {
      "text/html": [
       "<div>\n",
       "<style scoped>\n",
       "    .dataframe tbody tr th:only-of-type {\n",
       "        vertical-align: middle;\n",
       "    }\n",
       "\n",
       "    .dataframe tbody tr th {\n",
       "        vertical-align: top;\n",
       "    }\n",
       "\n",
       "    .dataframe thead th {\n",
       "        text-align: right;\n",
       "    }\n",
       "</style>\n",
       "<table border=\"1\" class=\"dataframe\">\n",
       "  <thead>\n",
       "    <tr style=\"text-align: right;\">\n",
       "      <th></th>\n",
       "      <th>user_id</th>\n",
       "      <th>duolingo_start_date</th>\n",
       "      <th>daily_goal</th>\n",
       "      <th>highest_course_progress</th>\n",
       "      <th>took_placement_test</th>\n",
       "      <th>purchased_subscription</th>\n",
       "      <th>highest_crown_count</th>\n",
       "      <th>n_active_days</th>\n",
       "      <th>n_lessons_started</th>\n",
       "      <th>n_lessons_completed</th>\n",
       "      <th>longest_streak</th>\n",
       "      <th>n_days_on_platform</th>\n",
       "    </tr>\n",
       "  </thead>\n",
       "  <tbody>\n",
       "    <tr>\n",
       "      <td>0</td>\n",
       "      <td>35cb7e8f72c911e9888edca9049399ef</td>\n",
       "      <td>2018-06-20 21:14:00</td>\n",
       "      <td>NaN</td>\n",
       "      <td>46.0</td>\n",
       "      <td>True</td>\n",
       "      <td>False</td>\n",
       "      <td>277.0</td>\n",
       "      <td>88</td>\n",
       "      <td>741.0</td>\n",
       "      <td>668.0</td>\n",
       "      <td>135</td>\n",
       "      <td>137</td>\n",
       "    </tr>\n",
       "    <tr>\n",
       "      <td>1</td>\n",
       "      <td>35ca34fd72c911e99ed6dca9049399ef</td>\n",
       "      <td>2017-08-08 05:01:00</td>\n",
       "      <td>NaN</td>\n",
       "      <td>50.0</td>\n",
       "      <td>True</td>\n",
       "      <td>False</td>\n",
       "      <td>62.0</td>\n",
       "      <td>16</td>\n",
       "      <td>57.0</td>\n",
       "      <td>57.0</td>\n",
       "      <td>6</td>\n",
       "      <td>453</td>\n",
       "    </tr>\n",
       "    <tr>\n",
       "      <td>2</td>\n",
       "      <td>35d1a54a72c911e98e25dca9049399ef</td>\n",
       "      <td>2014-10-15 17:55:00</td>\n",
       "      <td>1.0</td>\n",
       "      <td>71.0</td>\n",
       "      <td>False</td>\n",
       "      <td>False</td>\n",
       "      <td>202.0</td>\n",
       "      <td>29</td>\n",
       "      <td>315.0</td>\n",
       "      <td>295.0</td>\n",
       "      <td>55</td>\n",
       "      <td>1481</td>\n",
       "    </tr>\n",
       "  </tbody>\n",
       "</table>\n",
       "</div>"
      ],
      "text/plain": [
       "                            user_id duolingo_start_date  daily_goal  \\\n",
       "0  35cb7e8f72c911e9888edca9049399ef 2018-06-20 21:14:00         NaN   \n",
       "1  35ca34fd72c911e99ed6dca9049399ef 2017-08-08 05:01:00         NaN   \n",
       "2  35d1a54a72c911e98e25dca9049399ef 2014-10-15 17:55:00         1.0   \n",
       "\n",
       "   highest_course_progress took_placement_test  purchased_subscription  \\\n",
       "0                     46.0                True                   False   \n",
       "1                     50.0                True                   False   \n",
       "2                     71.0               False                   False   \n",
       "\n",
       "   highest_crown_count  n_active_days  n_lessons_started  n_lessons_completed  \\\n",
       "0                277.0             88              741.0                668.0   \n",
       "1                 62.0             16               57.0                 57.0   \n",
       "2                202.0             29              315.0                295.0   \n",
       "\n",
       "   longest_streak  n_days_on_platform  \n",
       "0             135                 137  \n",
       "1               6                 453  \n",
       "2              55                1481  "
      ]
     },
     "execution_count": 656,
     "metadata": {},
     "output_type": "execute_result"
    }
   ],
   "source": [
    "usage.head(3)"
   ]
  },
  {
   "cell_type": "code",
   "execution_count": 657,
   "metadata": {},
   "outputs": [],
   "source": [
    "usage.daily_goal=usage.daily_goal.replace({np.nan:0})\n",
    "usage.highest_course_progress=usage.highest_course_progress.replace({np.nan:0})\n",
    "usage.iloc[usage[usage.highest_course_progress<0].index.tolist(), 3] = 0\n",
    "usage.took_placement_test=usage.took_placement_test.replace({np.nan:\"False\"})\n",
    "usage.highest_crown_count=usage.highest_crown_count.replace({np.nan:0})\n",
    "usage.n_lessons_started=usage.n_lessons_started.replace({np.nan:0})\n",
    "usage.n_lessons_completed=usage.n_lessons_completed.replace({np.nan:0})"
   ]
  },
  {
   "cell_type": "code",
   "execution_count": 658,
   "metadata": {},
   "outputs": [
    {
     "data": {
      "text/html": [
       "<div>\n",
       "<style scoped>\n",
       "    .dataframe tbody tr th:only-of-type {\n",
       "        vertical-align: middle;\n",
       "    }\n",
       "\n",
       "    .dataframe tbody tr th {\n",
       "        vertical-align: top;\n",
       "    }\n",
       "\n",
       "    .dataframe thead th {\n",
       "        text-align: right;\n",
       "    }\n",
       "</style>\n",
       "<table border=\"1\" class=\"dataframe\">\n",
       "  <thead>\n",
       "    <tr style=\"text-align: right;\">\n",
       "      <th></th>\n",
       "      <th>user_id</th>\n",
       "      <th>duolingo_start_date</th>\n",
       "      <th>daily_goal</th>\n",
       "      <th>highest_course_progress</th>\n",
       "      <th>took_placement_test</th>\n",
       "      <th>purchased_subscription</th>\n",
       "      <th>highest_crown_count</th>\n",
       "      <th>n_active_days</th>\n",
       "      <th>n_lessons_started</th>\n",
       "      <th>n_lessons_completed</th>\n",
       "      <th>longest_streak</th>\n",
       "      <th>n_days_on_platform</th>\n",
       "    </tr>\n",
       "  </thead>\n",
       "  <tbody>\n",
       "    <tr>\n",
       "      <td>0</td>\n",
       "      <td>35cb7e8f72c911e9888edca9049399ef</td>\n",
       "      <td>2018-06-20 21:14:00</td>\n",
       "      <td>0.0</td>\n",
       "      <td>46.0</td>\n",
       "      <td>True</td>\n",
       "      <td>False</td>\n",
       "      <td>277.0</td>\n",
       "      <td>88</td>\n",
       "      <td>741.0</td>\n",
       "      <td>668.0</td>\n",
       "      <td>135</td>\n",
       "      <td>137</td>\n",
       "    </tr>\n",
       "    <tr>\n",
       "      <td>1</td>\n",
       "      <td>35ca34fd72c911e99ed6dca9049399ef</td>\n",
       "      <td>2017-08-08 05:01:00</td>\n",
       "      <td>0.0</td>\n",
       "      <td>50.0</td>\n",
       "      <td>True</td>\n",
       "      <td>False</td>\n",
       "      <td>62.0</td>\n",
       "      <td>16</td>\n",
       "      <td>57.0</td>\n",
       "      <td>57.0</td>\n",
       "      <td>6</td>\n",
       "      <td>453</td>\n",
       "    </tr>\n",
       "    <tr>\n",
       "      <td>2</td>\n",
       "      <td>35d1a54a72c911e98e25dca9049399ef</td>\n",
       "      <td>2014-10-15 17:55:00</td>\n",
       "      <td>1.0</td>\n",
       "      <td>71.0</td>\n",
       "      <td>False</td>\n",
       "      <td>False</td>\n",
       "      <td>202.0</td>\n",
       "      <td>29</td>\n",
       "      <td>315.0</td>\n",
       "      <td>295.0</td>\n",
       "      <td>55</td>\n",
       "      <td>1481</td>\n",
       "    </tr>\n",
       "  </tbody>\n",
       "</table>\n",
       "</div>"
      ],
      "text/plain": [
       "                            user_id duolingo_start_date  daily_goal  \\\n",
       "0  35cb7e8f72c911e9888edca9049399ef 2018-06-20 21:14:00         0.0   \n",
       "1  35ca34fd72c911e99ed6dca9049399ef 2017-08-08 05:01:00         0.0   \n",
       "2  35d1a54a72c911e98e25dca9049399ef 2014-10-15 17:55:00         1.0   \n",
       "\n",
       "   highest_course_progress took_placement_test  purchased_subscription  \\\n",
       "0                     46.0                True                   False   \n",
       "1                     50.0                True                   False   \n",
       "2                     71.0               False                   False   \n",
       "\n",
       "   highest_crown_count  n_active_days  n_lessons_started  n_lessons_completed  \\\n",
       "0                277.0             88              741.0                668.0   \n",
       "1                 62.0             16               57.0                 57.0   \n",
       "2                202.0             29              315.0                295.0   \n",
       "\n",
       "   longest_streak  n_days_on_platform  \n",
       "0             135                 137  \n",
       "1               6                 453  \n",
       "2              55                1481  "
      ]
     },
     "execution_count": 658,
     "metadata": {},
     "output_type": "execute_result"
    }
   ],
   "source": [
    "usage.head(3)"
   ]
  },
  {
   "cell_type": "code",
   "execution_count": 659,
   "metadata": {},
   "outputs": [
    {
     "name": "stdout",
     "output_type": "stream",
     "text": [
      "<class 'pandas.core.frame.DataFrame'>\n",
      "RangeIndex: 6149 entries, 0 to 6148\n",
      "Data columns (total 12 columns):\n",
      "user_id                    6149 non-null object\n",
      "duolingo_start_date        6149 non-null datetime64[ns]\n",
      "daily_goal                 6149 non-null float64\n",
      "highest_course_progress    6149 non-null float64\n",
      "took_placement_test        6149 non-null object\n",
      "purchased_subscription     6149 non-null bool\n",
      "highest_crown_count        6149 non-null float64\n",
      "n_active_days              6149 non-null int64\n",
      "n_lessons_started          6149 non-null float64\n",
      "n_lessons_completed        6149 non-null float64\n",
      "longest_streak             6149 non-null int64\n",
      "n_days_on_platform         6149 non-null int64\n",
      "dtypes: bool(1), datetime64[ns](1), float64(5), int64(3), object(2)\n",
      "memory usage: 534.6+ KB\n"
     ]
    }
   ],
   "source": [
    "usage.info()"
   ]
  },
  {
   "cell_type": "code",
   "execution_count": 660,
   "metadata": {},
   "outputs": [
    {
     "data": {
      "text/html": [
       "<div>\n",
       "<style scoped>\n",
       "    .dataframe tbody tr th:only-of-type {\n",
       "        vertical-align: middle;\n",
       "    }\n",
       "\n",
       "    .dataframe tbody tr th {\n",
       "        vertical-align: top;\n",
       "    }\n",
       "\n",
       "    .dataframe thead th {\n",
       "        text-align: right;\n",
       "    }\n",
       "</style>\n",
       "<table border=\"1\" class=\"dataframe\">\n",
       "  <thead>\n",
       "    <tr style=\"text-align: right;\">\n",
       "      <th></th>\n",
       "      <th>daily_goal</th>\n",
       "      <th>highest_course_progress</th>\n",
       "      <th>highest_crown_count</th>\n",
       "      <th>n_active_days</th>\n",
       "      <th>n_lessons_started</th>\n",
       "      <th>n_lessons_completed</th>\n",
       "      <th>longest_streak</th>\n",
       "      <th>n_days_on_platform</th>\n",
       "    </tr>\n",
       "  </thead>\n",
       "  <tbody>\n",
       "    <tr>\n",
       "      <td>count</td>\n",
       "      <td>6149.000000</td>\n",
       "      <td>6149.000000</td>\n",
       "      <td>6149.000000</td>\n",
       "      <td>6149.000000</td>\n",
       "      <td>6149.000000</td>\n",
       "      <td>6149.000000</td>\n",
       "      <td>6149.000000</td>\n",
       "      <td>6149.000000</td>\n",
       "    </tr>\n",
       "    <tr>\n",
       "      <td>mean</td>\n",
       "      <td>11.297609</td>\n",
       "      <td>27.340055</td>\n",
       "      <td>102.039356</td>\n",
       "      <td>49.150106</td>\n",
       "      <td>243.589201</td>\n",
       "      <td>227.707432</td>\n",
       "      <td>154.855586</td>\n",
       "      <td>615.571963</td>\n",
       "    </tr>\n",
       "    <tr>\n",
       "      <td>std</td>\n",
       "      <td>15.702263</td>\n",
       "      <td>20.065532</td>\n",
       "      <td>97.531815</td>\n",
       "      <td>39.212910</td>\n",
       "      <td>299.665026</td>\n",
       "      <td>283.295936</td>\n",
       "      <td>617.272874</td>\n",
       "      <td>594.823322</td>\n",
       "    </tr>\n",
       "    <tr>\n",
       "      <td>min</td>\n",
       "      <td>0.000000</td>\n",
       "      <td>0.000000</td>\n",
       "      <td>0.000000</td>\n",
       "      <td>1.000000</td>\n",
       "      <td>0.000000</td>\n",
       "      <td>0.000000</td>\n",
       "      <td>0.000000</td>\n",
       "      <td>2.000000</td>\n",
       "    </tr>\n",
       "    <tr>\n",
       "      <td>25%</td>\n",
       "      <td>0.000000</td>\n",
       "      <td>10.000000</td>\n",
       "      <td>24.000000</td>\n",
       "      <td>12.000000</td>\n",
       "      <td>49.000000</td>\n",
       "      <td>43.000000</td>\n",
       "      <td>3.000000</td>\n",
       "      <td>99.000000</td>\n",
       "    </tr>\n",
       "    <tr>\n",
       "      <td>50%</td>\n",
       "      <td>0.000000</td>\n",
       "      <td>26.000000</td>\n",
       "      <td>75.000000</td>\n",
       "      <td>44.000000</td>\n",
       "      <td>158.000000</td>\n",
       "      <td>145.000000</td>\n",
       "      <td>17.000000</td>\n",
       "      <td>417.000000</td>\n",
       "    </tr>\n",
       "    <tr>\n",
       "      <td>75%</td>\n",
       "      <td>20.000000</td>\n",
       "      <td>38.000000</td>\n",
       "      <td>155.000000</td>\n",
       "      <td>85.000000</td>\n",
       "      <td>327.000000</td>\n",
       "      <td>305.000000</td>\n",
       "      <td>88.000000</td>\n",
       "      <td>1002.000000</td>\n",
       "    </tr>\n",
       "    <tr>\n",
       "      <td>max</td>\n",
       "      <td>50.000000</td>\n",
       "      <td>83.000000</td>\n",
       "      <td>617.000000</td>\n",
       "      <td>289.000000</td>\n",
       "      <td>4786.000000</td>\n",
       "      <td>4686.000000</td>\n",
       "      <td>6000.000000</td>\n",
       "      <td>2402.000000</td>\n",
       "    </tr>\n",
       "  </tbody>\n",
       "</table>\n",
       "</div>"
      ],
      "text/plain": [
       "        daily_goal  highest_course_progress  highest_crown_count  \\\n",
       "count  6149.000000              6149.000000          6149.000000   \n",
       "mean     11.297609                27.340055           102.039356   \n",
       "std      15.702263                20.065532            97.531815   \n",
       "min       0.000000                 0.000000             0.000000   \n",
       "25%       0.000000                10.000000            24.000000   \n",
       "50%       0.000000                26.000000            75.000000   \n",
       "75%      20.000000                38.000000           155.000000   \n",
       "max      50.000000                83.000000           617.000000   \n",
       "\n",
       "       n_active_days  n_lessons_started  n_lessons_completed  longest_streak  \\\n",
       "count    6149.000000        6149.000000          6149.000000     6149.000000   \n",
       "mean       49.150106         243.589201           227.707432      154.855586   \n",
       "std        39.212910         299.665026           283.295936      617.272874   \n",
       "min         1.000000           0.000000             0.000000        0.000000   \n",
       "25%        12.000000          49.000000            43.000000        3.000000   \n",
       "50%        44.000000         158.000000           145.000000       17.000000   \n",
       "75%        85.000000         327.000000           305.000000       88.000000   \n",
       "max       289.000000        4786.000000          4686.000000     6000.000000   \n",
       "\n",
       "       n_days_on_platform  \n",
       "count         6149.000000  \n",
       "mean           615.571963  \n",
       "std            594.823322  \n",
       "min              2.000000  \n",
       "25%             99.000000  \n",
       "50%            417.000000  \n",
       "75%           1002.000000  \n",
       "max           2402.000000  "
      ]
     },
     "execution_count": 660,
     "metadata": {},
     "output_type": "execute_result"
    }
   ],
   "source": [
    "usage.describe()"
   ]
  },
  {
   "cell_type": "code",
   "execution_count": 661,
   "metadata": {},
   "outputs": [],
   "source": [
    "usage.to_csv(\"../Data_processed/usage_clean.csv\")"
   ]
  },
  {
   "cell_type": "code",
   "execution_count": null,
   "metadata": {},
   "outputs": [],
   "source": []
  }
 ],
 "metadata": {
  "kernelspec": {
   "display_name": "Python 3",
   "language": "python",
   "name": "python3"
  },
  "language_info": {
   "codemirror_mode": {
    "name": "ipython",
    "version": 3
   },
   "file_extension": ".py",
   "mimetype": "text/x-python",
   "name": "python",
   "nbconvert_exporter": "python",
   "pygments_lexer": "ipython3",
   "version": "3.6.8"
  }
 },
 "nbformat": 4,
 "nbformat_minor": 2
}
